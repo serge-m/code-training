{
 "cells": [
  {
   "cell_type": "code",
   "execution_count": 2,
   "metadata": {},
   "outputs": [],
   "source": [
    "#!/usr/bin/env python\n",
    "# coding: utf-8\n",
    "\n",
    "import os\n",
    "\n",
    "import torch\n",
    "from pytorch_lightning.callbacks import ModelCheckpoint\n",
    "from torch import nn\n",
    "from torch.nn import functional as F\n",
    "import torchvision\n",
    "import torchvision.transforms as transforms\n",
    "from torch.utils.data import DataLoader\n",
    "from torchvision.datasets import MNIST, FashionMNIST\n",
    "\n",
    "from argparse import ArgumentParser\n",
    "\n",
    "import pytorch_lightning as pl\n",
    "from pytorch_lightning.loggers import TensorBoardLogger\n",
    "from pytorch_lightning import Trainer\n",
    "from collections import OrderedDict\n",
    "from torch import optim\n",
    "import numpy as np\n",
    "from dataclasses import dataclass\n",
    "from torchvision.models.resnet import conv1x1, conv3x3, resnet18\n",
    "from torchsummary import summary\n",
    "\n",
    "def reduce_mean_dicts(list_dicts, key):\n",
    "    if not list_dicts:\n",
    "        return 0.\n",
    "\n",
    "    s = sum([d[key] for d in list_dicts], 0.)\n",
    "    return s / len(list_dicts)\n",
    "\n",
    "\n",
    "@dataclass\n",
    "class Params:\n",
    "    batch_size_train: int\n",
    "    batch_size_val: int\n",
    "    path_data: str\n",
    "    learning_rate: float"
   ]
  },
  {
   "cell_type": "code",
   "execution_count": null,
   "metadata": {},
   "outputs": [],
   "source": []
  },
  {
   "cell_type": "code",
   "execution_count": 3,
   "metadata": {},
   "outputs": [],
   "source": [
    "class BasicBlock(nn.Module):\n",
    "    expansion = 1\n",
    "\n",
    "    def __init__(self, inplanes, planes, stride=1, downsample=None, groups=1,\n",
    "                 base_width=64, dilation=1, norm_layer=None):\n",
    "        super(BasicBlock, self).__init__()\n",
    "        if norm_layer is None:\n",
    "            norm_layer = nn.BatchNorm2d\n",
    "        if groups != 1 or base_width != 64:\n",
    "            raise ValueError('BasicBlock only supports groups=1 and base_width=64')\n",
    "        if dilation > 1:\n",
    "            raise NotImplementedError(\"Dilation > 1 not supported in BasicBlock\")\n",
    "        # Both self.conv1 and self.downsample layers downsample the input when stride != 1\n",
    "        self.conv1 = conv3x3(inplanes, planes, stride)\n",
    "        self.bn1 = norm_layer(planes)\n",
    "        self.relu = nn.ReLU(inplace=True)\n",
    "        self.conv2 = conv3x3(planes, planes)\n",
    "        self.bn2 = norm_layer(planes)\n",
    "        self.downsample = downsample\n",
    "        self.stride = stride\n",
    "\n",
    "    def forward(self, x):\n",
    "        identity = x\n",
    "\n",
    "        out = self.conv1(x)\n",
    "        out = self.bn1(out)\n",
    "        out = self.relu(out)\n",
    "\n",
    "        out = self.conv2(out)\n",
    "        out = self.bn2(out)\n",
    "\n",
    "        if self.downsample is not None:\n",
    "            identity = self.downsample(x)\n",
    "\n",
    "        out += identity\n",
    "        out = self.relu(out)\n",
    "\n",
    "        return out"
   ]
  },
  {
   "cell_type": "code",
   "execution_count": 4,
   "metadata": {},
   "outputs": [],
   "source": [
    "class ResNetPart(nn.Module):\n",
    "\n",
    "    def __init__(self, zero_init_residual=False):\n",
    "        super(ResNetPart, self).__init__()\n",
    "        \n",
    "        self._norm_layer = nn.BatchNorm2d\n",
    "\n",
    "        self.inplanes = 64\n",
    "        self.dilation = 1\n",
    "        self.groups = 1\n",
    "        self.base_width = 64\n",
    "\n",
    "        self.layer1 = self._make_layer(BasicBlock, 64, 2, stride=2)\n",
    "        self.layer2 = self._make_layer(BasicBlock, 128, 2, stride=2)\n",
    "        self.layer3 = self._make_layer(BasicBlock, 256, 2, stride=2)\n",
    "        \n",
    "        for m in self.modules():\n",
    "            if isinstance(m, nn.Conv2d):\n",
    "                nn.init.kaiming_normal_(m.weight, mode='fan_out', nonlinearity='relu')\n",
    "            elif isinstance(m, (nn.BatchNorm2d, nn.GroupNorm)):\n",
    "                nn.init.constant_(m.weight, 1)\n",
    "                nn.init.constant_(m.bias, 0)\n",
    "\n",
    "        # Zero-initialize the last BN in each residual branch,\n",
    "        # so that the residual branch starts with zeros, and each residual block behaves like an identity.\n",
    "        # This improves the model by 0.2~0.3% according to https://arxiv.org/abs/1706.02677\n",
    "        if zero_init_residual:\n",
    "            for m in self.modules():\n",
    "                if isinstance(m, Bottleneck):\n",
    "                    nn.init.constant_(m.bn3.weight, 0)\n",
    "                elif isinstance(m, BasicBlock):\n",
    "                    nn.init.constant_(m.bn2.weight, 0)\n",
    "\n",
    "    def _make_layer(self, block, planes, blocks, stride=1, dilate=False):\n",
    "        norm_layer = self._norm_layer\n",
    "        downsample = None\n",
    "        previous_dilation = self.dilation\n",
    "        if dilate:\n",
    "            self.dilation *= stride\n",
    "            stride = 1\n",
    "        if stride != 1 or self.inplanes != planes * block.expansion:\n",
    "            print(\"downsample\")\n",
    "            downsample = nn.Sequential(\n",
    "                conv1x1(self.inplanes, planes * block.expansion, stride),\n",
    "                norm_layer(planes * block.expansion),\n",
    "            )\n",
    "\n",
    "        layers = []\n",
    "        layers.append(block(self.inplanes, planes, stride, downsample, 1, \n",
    "                            64, previous_dilation, norm_layer))\n",
    "        self.inplanes = planes * block.expansion\n",
    "        for _ in range(1, blocks):\n",
    "            layers.append(block(self.inplanes, planes, groups=self.groups,\n",
    "                                base_width=self.base_width, dilation=self.dilation,\n",
    "                                norm_layer=norm_layer))\n",
    "\n",
    "        return nn.Sequential(*layers)\n",
    "\n",
    "    def _forward_impl(self, x):\n",
    "        x = self.layer1(x)\n",
    "        x = self.layer2(x)\n",
    "        x = self.layer3(x)\n",
    "        return x\n",
    "\n",
    "    def forward(self, x):\n",
    "        return self._forward_impl(x)"
   ]
  },
  {
   "cell_type": "code",
   "execution_count": 5,
   "metadata": {},
   "outputs": [
    {
     "name": "stdout",
     "output_type": "stream",
     "text": [
      "downsample\n",
      "downsample\n",
      "downsample\n"
     ]
    },
    {
     "data": {
      "text/plain": [
       "torch.Size([20, 256, 2, 2])"
      ]
     },
     "execution_count": 5,
     "metadata": {},
     "output_type": "execute_result"
    }
   ],
   "source": [
    "ResNetPart()(torch.randn(20, 64, 10, 10)).size()"
   ]
  },
  {
   "cell_type": "code",
   "execution_count": 6,
   "metadata": {},
   "outputs": [],
   "source": [
    "class Model(pl.LightningModule):\n",
    "\n",
    "    def __init__(self, hparams: Params):\n",
    "        super().__init__()\n",
    "\n",
    "        self.hparams = hparams\n",
    "        self.model = nn.Sequential(\n",
    "            nn.Conv2d(1, 64, 5, padding=2),\n",
    "            nn.BatchNorm2d(64),\n",
    "            nn.ReLU(),\n",
    "           \n",
    "            ResNetPart(),\n",
    "            \n",
    "            nn.AdaptiveAvgPool2d((1, 1)),\n",
    "            nn.Flatten(1),\n",
    "            nn.Linear(256, 10),\n",
    "        )\n",
    "        self.loss = F.cross_entropy\n",
    "        self.train_dataset = None\n",
    "        self.val_dataset = None\n",
    "        \n",
    "        self.tfms_common = [\n",
    "            transforms.ToTensor(),\n",
    "            transforms.Normalize((0.285,), (.3523*2,))\n",
    "        ]\n",
    "        self.tfms_train = [\n",
    "            transforms.RandomRotation(7., fill=(0,)),\n",
    "            transforms.RandomCrop(28, padding=3),\n",
    "        ]\n",
    "        \n",
    "\n",
    "    def forward(self, x):\n",
    "        return self.model(x)\n",
    "\n",
    "    def training_step(self, batch, batch_idx):\n",
    "        x, y = batch\n",
    "        y_hat = self.forward(x)\n",
    "         \n",
    "        loss_val = self.loss(y_hat, y, )\n",
    "\n",
    "        \n",
    "        tqdm_dict = {'train_loss': loss_val,\n",
    "                    }\n",
    "        \n",
    "        if batch_idx % 100 == 0:\n",
    "            tqdm_dict['lr'] = np.array(self.trainer.lr_schedulers[0]['scheduler'].get_lr())\n",
    "            \n",
    "        return OrderedDict({\n",
    "            'loss': loss_val,\n",
    "            'log': tqdm_dict\n",
    "        })\n",
    "\n",
    "    def validation_step(self, batch, batch_idx):\n",
    "        x, y = batch\n",
    "        y_hat = self.forward(x)\n",
    "\n",
    "        loss_val = self.loss(y_hat, y, )\n",
    "\n",
    "        # acc\n",
    "        labels_hat = torch.argmax(y_hat, dim=1)\n",
    "        val_acc = torch.sum(y == labels_hat).item() / (len(y) * 1.0)\n",
    "        val_acc = torch.tensor(val_acc)\n",
    "\n",
    "        if self.on_gpu:\n",
    "            val_acc = val_acc.cuda(loss_val.device.index)\n",
    "\n",
    "        output = OrderedDict({\n",
    "            'val_loss': loss_val,\n",
    "            'val_acc': val_acc,\n",
    "        })\n",
    "\n",
    "        return output\n",
    "\n",
    "    def validation_epoch_end(self, outputs):\n",
    "        loss_mean = reduce_mean_dicts(outputs, 'val_loss')\n",
    "        acc_mean = reduce_mean_dicts(outputs, 'val_acc')\n",
    "        tqdm_dict = {\n",
    "            'val_loss': loss_mean,\n",
    "            'val_acc': acc_mean\n",
    "        }\n",
    "        result = {'progress_bar': tqdm_dict, 'log': tqdm_dict, 'val_loss': loss_mean}\n",
    "        return result\n",
    "\n",
    "    def prepare_data(self):\n",
    "\n",
    "        mnist_train = FashionMNIST(self.hparams.path_data, train=True, download=True,\n",
    "                                   transform=transforms.Compose(self.tfms_train + self.tfms_common)\n",
    "                                  )\n",
    "        mnist_test = FashionMNIST(self.hparams.path_data, train=False, download=True,\n",
    "                                  transform=transforms.Compose(self.tfms_common)\n",
    "                                  )\n",
    "\n",
    "        #         mnist_train, mnist_val = random_split(mnist_train, [55000, 5000])\n",
    "\n",
    "        self.train_dataset = mnist_train\n",
    "        self.val_dataset = mnist_test\n",
    "\n",
    "    def train_dataloader(self):\n",
    "        if self.train_dataset is None:\n",
    "            self.prepare_data()\n",
    "        return DataLoader(self.train_dataset, batch_size=self.hparams.batch_size_train, num_workers=0)\n",
    "\n",
    "    def val_dataloader(self):\n",
    "        if self.val_dataset is None:\n",
    "            self.prepare_data()\n",
    "        return DataLoader(self.val_dataset, batch_size=self.hparams.batch_size_val, num_workers=0)\n",
    "\n",
    "    def test_dataloader(self):\n",
    "        return DataLoader(self.val_dataset, batch_size=self.hparams.batch_size_val, num_workers=0)\n",
    "\n",
    "    def configure_optimizers(self):\n",
    "        \"\"\"\n",
    "        Return whatever optimizers and learning rate schedulers you want here.\n",
    "        At least one optimizer is required.\n",
    "        \"\"\"\n",
    "        optimizer = optim.Adam(self.parameters(), lr=self.hparams.learning_rate)\n",
    "        scheduler = optim.lr_scheduler.OneCycleLR(optimizer, max_lr=self.hparams.learning_rate, \n",
    "                                                  steps_per_epoch=1, \n",
    "                                                  epochs=self.trainer.max_epochs\n",
    "                                                  )\n",
    "        return [optimizer], [scheduler]\n",
    "\n",
    "    @staticmethod\n",
    "    def add_model_specific_args(parent_parser):  # pragma: no-cover\n",
    "        parser = ArgumentParser(parents=[parent_parser])\n",
    "\n",
    "        parser.add_argument('--learning_rate', default=0.01, type=float)\n",
    "        parser.add_argument('--batch_size_train', default=64, type=int)\n",
    "        parser.add_argument('--batch_size_val', default=32, type=int)\n",
    "        parser.add_argument('--path_data', default=\"./data\", type=str)\n",
    "\n",
    "        # training params (opt)\n",
    "        parser.add_argument('--epochs', default=20, type=int)\n",
    "        return parser\n",
    "\n",
    "    def test_step(self, batch, batch_idx):\n",
    "        \"\"\"\n",
    "        Lightning calls this during testing, similar to `validation_step`,\n",
    "        with the data from the test dataloader passed in as `batch`.\n",
    "        \"\"\"\n",
    "        output = self.validation_step(batch, batch_idx)\n",
    "        # Rename output keys\n",
    "        output['test_loss'] = output.pop('val_loss')\n",
    "        output['test_acc'] = output.pop('val_acc')\n",
    "        return output\n",
    "\n",
    "    def test_epoch_end(self, outputs):\n",
    "        loss_mean = reduce_mean_dicts(outputs, 'test_loss')\n",
    "        acc_mean = reduce_mean_dicts(outputs, 'test_acc')\n",
    "        tqdm_dict = {\n",
    "            'test_loss': loss_mean,\n",
    "            'test_acc': acc_mean\n",
    "        }\n",
    "        result = {'progress_bar': tqdm_dict, 'log': tqdm_dict, 'test_loss': loss_mean}\n",
    "        return result"
   ]
  },
  {
   "cell_type": "code",
   "execution_count": 7,
   "metadata": {},
   "outputs": [
    {
     "name": "stdout",
     "output_type": "stream",
     "text": [
      "downsample\n",
      "downsample\n",
      "downsample\n",
      "----------------------------------------------------------------\n",
      "        Layer (type)               Output Shape         Param #\n",
      "================================================================\n",
      "            Conv2d-1           [-1, 64, 28, 28]           1,664\n",
      "       BatchNorm2d-2           [-1, 64, 28, 28]             128\n",
      "              ReLU-3           [-1, 64, 28, 28]               0\n",
      "            Conv2d-4           [-1, 64, 14, 14]          36,864\n",
      "       BatchNorm2d-5           [-1, 64, 14, 14]             128\n",
      "              ReLU-6           [-1, 64, 14, 14]               0\n",
      "            Conv2d-7           [-1, 64, 14, 14]          36,864\n",
      "       BatchNorm2d-8           [-1, 64, 14, 14]             128\n",
      "            Conv2d-9           [-1, 64, 14, 14]           4,096\n",
      "      BatchNorm2d-10           [-1, 64, 14, 14]             128\n",
      "             ReLU-11           [-1, 64, 14, 14]               0\n",
      "       BasicBlock-12           [-1, 64, 14, 14]               0\n",
      "           Conv2d-13           [-1, 64, 14, 14]          36,864\n",
      "      BatchNorm2d-14           [-1, 64, 14, 14]             128\n",
      "             ReLU-15           [-1, 64, 14, 14]               0\n",
      "           Conv2d-16           [-1, 64, 14, 14]          36,864\n",
      "      BatchNorm2d-17           [-1, 64, 14, 14]             128\n",
      "             ReLU-18           [-1, 64, 14, 14]               0\n",
      "       BasicBlock-19           [-1, 64, 14, 14]               0\n",
      "           Conv2d-20            [-1, 128, 7, 7]          73,728\n",
      "      BatchNorm2d-21            [-1, 128, 7, 7]             256\n",
      "             ReLU-22            [-1, 128, 7, 7]               0\n",
      "           Conv2d-23            [-1, 128, 7, 7]         147,456\n",
      "      BatchNorm2d-24            [-1, 128, 7, 7]             256\n",
      "           Conv2d-25            [-1, 128, 7, 7]           8,192\n",
      "      BatchNorm2d-26            [-1, 128, 7, 7]             256\n",
      "             ReLU-27            [-1, 128, 7, 7]               0\n",
      "       BasicBlock-28            [-1, 128, 7, 7]               0\n",
      "           Conv2d-29            [-1, 128, 7, 7]         147,456\n",
      "      BatchNorm2d-30            [-1, 128, 7, 7]             256\n",
      "             ReLU-31            [-1, 128, 7, 7]               0\n",
      "           Conv2d-32            [-1, 128, 7, 7]         147,456\n",
      "      BatchNorm2d-33            [-1, 128, 7, 7]             256\n",
      "             ReLU-34            [-1, 128, 7, 7]               0\n",
      "       BasicBlock-35            [-1, 128, 7, 7]               0\n",
      "           Conv2d-36            [-1, 256, 4, 4]         294,912\n",
      "      BatchNorm2d-37            [-1, 256, 4, 4]             512\n",
      "             ReLU-38            [-1, 256, 4, 4]               0\n",
      "           Conv2d-39            [-1, 256, 4, 4]         589,824\n",
      "      BatchNorm2d-40            [-1, 256, 4, 4]             512\n",
      "           Conv2d-41            [-1, 256, 4, 4]          32,768\n",
      "      BatchNorm2d-42            [-1, 256, 4, 4]             512\n",
      "             ReLU-43            [-1, 256, 4, 4]               0\n",
      "       BasicBlock-44            [-1, 256, 4, 4]               0\n",
      "           Conv2d-45            [-1, 256, 4, 4]         589,824\n",
      "      BatchNorm2d-46            [-1, 256, 4, 4]             512\n",
      "             ReLU-47            [-1, 256, 4, 4]               0\n",
      "           Conv2d-48            [-1, 256, 4, 4]         589,824\n",
      "      BatchNorm2d-49            [-1, 256, 4, 4]             512\n",
      "             ReLU-50            [-1, 256, 4, 4]               0\n",
      "       BasicBlock-51            [-1, 256, 4, 4]               0\n",
      "       ResNetPart-52            [-1, 256, 4, 4]               0\n",
      "AdaptiveAvgPool2d-53            [-1, 256, 1, 1]               0\n",
      "          Flatten-54                  [-1, 256]               0\n",
      "           Linear-55                   [-1, 10]           2,570\n",
      "================================================================\n",
      "Total params: 2,781,834\n",
      "Trainable params: 2,781,834\n",
      "Non-trainable params: 0\n",
      "----------------------------------------------------------------\n",
      "Input size (MB): 0.00\n",
      "Forward/backward pass size (MB): 3.98\n",
      "Params size (MB): 10.61\n",
      "Estimated Total Size (MB): 14.60\n",
      "----------------------------------------------------------------\n"
     ]
    }
   ],
   "source": [
    "model = Model({})\n",
    "summary(model, (1, 28, 28), device='cpu')\n",
    "# model(torch.randn(10,1,28,28)).size()"
   ]
  },
  {
   "cell_type": "code",
   "execution_count": 9,
   "metadata": {},
   "outputs": [],
   "source": [
    "def main(hparams):\n",
    "    model = Model(hparams)\n",
    "    \n",
    "\n",
    "    name = \"Resnetish8_1intro_layer_L1_64_2_s2_L2_128_2_s2_L3_256_s2_avg_pool\"\n",
    "    logger = TensorBoardLogger(\"lightning_logs\", name=name)\n",
    "\n",
    "    checkpoint_callback = ModelCheckpoint(\n",
    "        filepath=os.path.join('models', name, name+'_{epoch:02d}-{val_acc:.4f}-{val_loss:.4f}'),\n",
    "        save_top_k=1,\n",
    "        verbose=True,\n",
    "        monitor='val_acc',\n",
    "        mode='max',\n",
    "        prefix=''\n",
    "    )\n",
    "\n",
    "    trainer = pl.Trainer(\n",
    "        max_epochs=hparams.epochs,\n",
    "        gpus=hparams.gpus,\n",
    "        logger=logger,\n",
    "        checkpoint_callback=checkpoint_callback,\n",
    "        # precision=16 if hparams.use_16bit else 32,\n",
    "        progress_bar_refresh_rate=50,\n",
    "    )\n",
    "\n",
    "    trainer.fit(model)\n",
    "\n",
    "    trainer.test(model)"
   ]
  },
  {
   "cell_type": "code",
   "execution_count": null,
   "metadata": {},
   "outputs": [],
   "source": []
  },
  {
   "cell_type": "code",
   "execution_count": 10,
   "metadata": {
    "scrolled": false
   },
   "outputs": [
    {
     "name": "stderr",
     "output_type": "stream",
     "text": [
      "INFO:lightning:GPU available: True, used: True\n",
      "INFO:lightning:VISIBLE GPUS: 0\n"
     ]
    },
    {
     "name": "stdout",
     "output_type": "stream",
     "text": [
      "downsample\n",
      "downsample\n",
      "downsample\n"
     ]
    },
    {
     "name": "stderr",
     "output_type": "stream",
     "text": [
      "INFO:lightning:\n",
      "   | Name                          | Type              | Params\n",
      "----------------------------------------------------------------\n",
      "0  | model                         | Sequential        | 2 M   \n",
      "1  | model.0                       | Conv2d            | 1 K   \n",
      "2  | model.1                       | BatchNorm2d       | 128   \n",
      "3  | model.2                       | ReLU              | 0     \n",
      "4  | model.3                       | ResNetPart        | 2 M   \n",
      "5  | model.3.layer1                | Sequential        | 152 K \n",
      "6  | model.3.layer1.0              | BasicBlock        | 78 K  \n",
      "7  | model.3.layer1.0.conv1        | Conv2d            | 36 K  \n",
      "8  | model.3.layer1.0.bn1          | BatchNorm2d       | 128   \n",
      "9  | model.3.layer1.0.relu         | ReLU              | 0     \n",
      "10 | model.3.layer1.0.conv2        | Conv2d            | 36 K  \n",
      "11 | model.3.layer1.0.bn2          | BatchNorm2d       | 128   \n",
      "12 | model.3.layer1.0.downsample   | Sequential        | 4 K   \n",
      "13 | model.3.layer1.0.downsample.0 | Conv2d            | 4 K   \n",
      "14 | model.3.layer1.0.downsample.1 | BatchNorm2d       | 128   \n",
      "15 | model.3.layer1.1              | BasicBlock        | 73 K  \n",
      "16 | model.3.layer1.1.conv1        | Conv2d            | 36 K  \n",
      "17 | model.3.layer1.1.bn1          | BatchNorm2d       | 128   \n",
      "18 | model.3.layer1.1.relu         | ReLU              | 0     \n",
      "19 | model.3.layer1.1.conv2        | Conv2d            | 36 K  \n",
      "20 | model.3.layer1.1.bn2          | BatchNorm2d       | 128   \n",
      "21 | model.3.layer2                | Sequential        | 525 K \n",
      "22 | model.3.layer2.0              | BasicBlock        | 230 K \n",
      "23 | model.3.layer2.0.conv1        | Conv2d            | 73 K  \n",
      "24 | model.3.layer2.0.bn1          | BatchNorm2d       | 256   \n",
      "25 | model.3.layer2.0.relu         | ReLU              | 0     \n",
      "26 | model.3.layer2.0.conv2        | Conv2d            | 147 K \n",
      "27 | model.3.layer2.0.bn2          | BatchNorm2d       | 256   \n",
      "28 | model.3.layer2.0.downsample   | Sequential        | 8 K   \n",
      "29 | model.3.layer2.0.downsample.0 | Conv2d            | 8 K   \n",
      "30 | model.3.layer2.0.downsample.1 | BatchNorm2d       | 256   \n",
      "31 | model.3.layer2.1              | BasicBlock        | 295 K \n",
      "32 | model.3.layer2.1.conv1        | Conv2d            | 147 K \n",
      "33 | model.3.layer2.1.bn1          | BatchNorm2d       | 256   \n",
      "34 | model.3.layer2.1.relu         | ReLU              | 0     \n",
      "35 | model.3.layer2.1.conv2        | Conv2d            | 147 K \n",
      "36 | model.3.layer2.1.bn2          | BatchNorm2d       | 256   \n",
      "37 | model.3.layer3                | Sequential        | 2 M   \n",
      "38 | model.3.layer3.0              | BasicBlock        | 919 K \n",
      "39 | model.3.layer3.0.conv1        | Conv2d            | 294 K \n",
      "40 | model.3.layer3.0.bn1          | BatchNorm2d       | 512   \n",
      "41 | model.3.layer3.0.relu         | ReLU              | 0     \n",
      "42 | model.3.layer3.0.conv2        | Conv2d            | 589 K \n",
      "43 | model.3.layer3.0.bn2          | BatchNorm2d       | 512   \n",
      "44 | model.3.layer3.0.downsample   | Sequential        | 33 K  \n",
      "45 | model.3.layer3.0.downsample.0 | Conv2d            | 32 K  \n",
      "46 | model.3.layer3.0.downsample.1 | BatchNorm2d       | 512   \n",
      "47 | model.3.layer3.1              | BasicBlock        | 1 M   \n",
      "48 | model.3.layer3.1.conv1        | Conv2d            | 589 K \n",
      "49 | model.3.layer3.1.bn1          | BatchNorm2d       | 512   \n",
      "50 | model.3.layer3.1.relu         | ReLU              | 0     \n",
      "51 | model.3.layer3.1.conv2        | Conv2d            | 589 K \n",
      "52 | model.3.layer3.1.bn2          | BatchNorm2d       | 512   \n",
      "53 | model.4                       | AdaptiveAvgPool2d | 0     \n",
      "54 | model.5                       | Flatten           | 0     \n",
      "55 | model.6                       | Linear            | 2 K   \n",
      "/home/sergey/p/lrn/lrnenv/lib/python3.6/site-packages/pytorch_lightning/utilities/warnings.py:18: UserWarning: The dataloader, val dataloader 0, does not have many workers which may be a bottleneck. Consider increasing the value of the `num_workers` argument` in the `DataLoader` init to improve performance.\n",
      "  warnings.warn(*args, **kwargs)\n"
     ]
    },
    {
     "data": {
      "application/vnd.jupyter.widget-view+json": {
       "model_id": "",
       "version_major": 2,
       "version_minor": 0
      },
      "text/plain": [
       "HBox(children=(FloatProgress(value=0.0, description='Validation sanity check', layout=Layout(flex='2'), max=5.…"
      ]
     },
     "metadata": {},
     "output_type": "display_data"
    },
    {
     "data": {
      "application/vnd.jupyter.widget-view+json": {
       "model_id": "7eb43bfccf724354af293c7a0fbc48ee",
       "version_major": 2,
       "version_minor": 0
      },
      "text/plain": [
       "HBox(children=(FloatProgress(value=1.0, bar_style='info', layout=Layout(flex='2'), max=1.0), HTML(value='')), …"
      ]
     },
     "metadata": {},
     "output_type": "display_data"
    },
    {
     "name": "stderr",
     "output_type": "stream",
     "text": [
      "/home/sergey/p/lrn/lrnenv/lib/python3.6/site-packages/pytorch_lightning/utilities/warnings.py:18: RuntimeWarning: Displayed epoch numbers in the progress bar start from \"1\" until v0.6.x, but will start from \"0\" in v0.8.0.\n",
      "  warnings.warn(*args, **kwargs)\n",
      "/home/sergey/p/lrn/lrnenv/lib/python3.6/site-packages/pytorch_lightning/utilities/warnings.py:18: UserWarning: The dataloader, train dataloader, does not have many workers which may be a bottleneck. Consider increasing the value of the `num_workers` argument` in the `DataLoader` init to improve performance.\n",
      "  warnings.warn(*args, **kwargs)\n"
     ]
    },
    {
     "data": {
      "application/vnd.jupyter.widget-view+json": {
       "model_id": "",
       "version_major": 2,
       "version_minor": 0
      },
      "text/plain": [
       "HBox(children=(FloatProgress(value=0.0, description='Validating', layout=Layout(flex='2'), max=313.0, style=Pr…"
      ]
     },
     "metadata": {},
     "output_type": "display_data"
    },
    {
     "name": "stderr",
     "output_type": "stream",
     "text": [
      "INFO:lightning:\n",
      "Epoch 00000: val_acc reached 0.79982 (best 0.79982), saving model to models/Resnetish8_1intro_layer_L1_64_2_s2_L2_128_2_s2_L3_256_s2_avg_pool/Resnetish8_1intro_layer_L1_64_2_s2_L2_128_2_s2_L3_256_s2_avg_pool_epoch=00-val_acc=0.7998-val_loss=0.5333.ckpt as top 1\n"
     ]
    },
    {
     "data": {
      "application/vnd.jupyter.widget-view+json": {
       "model_id": "",
       "version_major": 2,
       "version_minor": 0
      },
      "text/plain": [
       "HBox(children=(FloatProgress(value=0.0, description='Validating', layout=Layout(flex='2'), max=313.0, style=Pr…"
      ]
     },
     "metadata": {},
     "output_type": "display_data"
    },
    {
     "name": "stderr",
     "output_type": "stream",
     "text": [
      "INFO:lightning:\n",
      "Epoch 00001: val_acc reached 0.83397 (best 0.83397), saving model to models/Resnetish8_1intro_layer_L1_64_2_s2_L2_128_2_s2_L3_256_s2_avg_pool/Resnetish8_1intro_layer_L1_64_2_s2_L2_128_2_s2_L3_256_s2_avg_pool_epoch=01-val_acc=0.8340-val_loss=0.4389.ckpt as top 1\n"
     ]
    },
    {
     "data": {
      "application/vnd.jupyter.widget-view+json": {
       "model_id": "",
       "version_major": 2,
       "version_minor": 0
      },
      "text/plain": [
       "HBox(children=(FloatProgress(value=0.0, description='Validating', layout=Layout(flex='2'), max=313.0, style=Pr…"
      ]
     },
     "metadata": {},
     "output_type": "display_data"
    },
    {
     "name": "stderr",
     "output_type": "stream",
     "text": [
      "INFO:lightning:\n",
      "Epoch 00002: val_acc reached 0.86422 (best 0.86422), saving model to models/Resnetish8_1intro_layer_L1_64_2_s2_L2_128_2_s2_L3_256_s2_avg_pool/Resnetish8_1intro_layer_L1_64_2_s2_L2_128_2_s2_L3_256_s2_avg_pool_epoch=02-val_acc=0.8642-val_loss=0.3739.ckpt as top 1\n"
     ]
    },
    {
     "data": {
      "application/vnd.jupyter.widget-view+json": {
       "model_id": "",
       "version_major": 2,
       "version_minor": 0
      },
      "text/plain": [
       "HBox(children=(FloatProgress(value=0.0, description='Validating', layout=Layout(flex='2'), max=313.0, style=Pr…"
      ]
     },
     "metadata": {},
     "output_type": "display_data"
    },
    {
     "name": "stderr",
     "output_type": "stream",
     "text": [
      "INFO:lightning:\n",
      "Epoch 00003: val_acc reached 0.87640 (best 0.87640), saving model to models/Resnetish8_1intro_layer_L1_64_2_s2_L2_128_2_s2_L3_256_s2_avg_pool/Resnetish8_1intro_layer_L1_64_2_s2_L2_128_2_s2_L3_256_s2_avg_pool_epoch=03-val_acc=0.8764-val_loss=0.3313.ckpt as top 1\n"
     ]
    },
    {
     "data": {
      "application/vnd.jupyter.widget-view+json": {
       "model_id": "",
       "version_major": 2,
       "version_minor": 0
      },
      "text/plain": [
       "HBox(children=(FloatProgress(value=0.0, description='Validating', layout=Layout(flex='2'), max=313.0, style=Pr…"
      ]
     },
     "metadata": {},
     "output_type": "display_data"
    },
    {
     "name": "stderr",
     "output_type": "stream",
     "text": [
      "INFO:lightning:\n",
      "Epoch 00004: val_acc reached 0.88349 (best 0.88349), saving model to models/Resnetish8_1intro_layer_L1_64_2_s2_L2_128_2_s2_L3_256_s2_avg_pool/Resnetish8_1intro_layer_L1_64_2_s2_L2_128_2_s2_L3_256_s2_avg_pool_epoch=04-val_acc=0.8835-val_loss=0.3157.ckpt as top 1\n"
     ]
    },
    {
     "data": {
      "application/vnd.jupyter.widget-view+json": {
       "model_id": "",
       "version_major": 2,
       "version_minor": 0
      },
      "text/plain": [
       "HBox(children=(FloatProgress(value=0.0, description='Validating', layout=Layout(flex='2'), max=313.0, style=Pr…"
      ]
     },
     "metadata": {},
     "output_type": "display_data"
    },
    {
     "name": "stderr",
     "output_type": "stream",
     "text": [
      "INFO:lightning:\n",
      "Epoch 00005: val_acc  was not in top 1\n"
     ]
    },
    {
     "data": {
      "application/vnd.jupyter.widget-view+json": {
       "model_id": "",
       "version_major": 2,
       "version_minor": 0
      },
      "text/plain": [
       "HBox(children=(FloatProgress(value=0.0, description='Validating', layout=Layout(flex='2'), max=313.0, style=Pr…"
      ]
     },
     "metadata": {},
     "output_type": "display_data"
    },
    {
     "name": "stderr",
     "output_type": "stream",
     "text": [
      "INFO:lightning:\n",
      "Epoch 00006: val_acc  was not in top 1\n"
     ]
    },
    {
     "data": {
      "application/vnd.jupyter.widget-view+json": {
       "model_id": "",
       "version_major": 2,
       "version_minor": 0
      },
      "text/plain": [
       "HBox(children=(FloatProgress(value=0.0, description='Validating', layout=Layout(flex='2'), max=313.0, style=Pr…"
      ]
     },
     "metadata": {},
     "output_type": "display_data"
    },
    {
     "name": "stderr",
     "output_type": "stream",
     "text": [
      "INFO:lightning:\n",
      "Epoch 00007: val_acc reached 0.89267 (best 0.89267), saving model to models/Resnetish8_1intro_layer_L1_64_2_s2_L2_128_2_s2_L3_256_s2_avg_pool/Resnetish8_1intro_layer_L1_64_2_s2_L2_128_2_s2_L3_256_s2_avg_pool_epoch=07-val_acc=0.8927-val_loss=0.2878.ckpt as top 1\n"
     ]
    },
    {
     "data": {
      "application/vnd.jupyter.widget-view+json": {
       "model_id": "",
       "version_major": 2,
       "version_minor": 0
      },
      "text/plain": [
       "HBox(children=(FloatProgress(value=0.0, description='Validating', layout=Layout(flex='2'), max=313.0, style=Pr…"
      ]
     },
     "metadata": {},
     "output_type": "display_data"
    },
    {
     "name": "stderr",
     "output_type": "stream",
     "text": [
      "INFO:lightning:\n",
      "Epoch 00008: val_acc  was not in top 1\n"
     ]
    },
    {
     "data": {
      "application/vnd.jupyter.widget-view+json": {
       "model_id": "",
       "version_major": 2,
       "version_minor": 0
      },
      "text/plain": [
       "HBox(children=(FloatProgress(value=0.0, description='Validating', layout=Layout(flex='2'), max=313.0, style=Pr…"
      ]
     },
     "metadata": {},
     "output_type": "display_data"
    },
    {
     "name": "stderr",
     "output_type": "stream",
     "text": [
      "INFO:lightning:\n",
      "Epoch 00009: val_acc reached 0.90306 (best 0.90306), saving model to models/Resnetish8_1intro_layer_L1_64_2_s2_L2_128_2_s2_L3_256_s2_avg_pool/Resnetish8_1intro_layer_L1_64_2_s2_L2_128_2_s2_L3_256_s2_avg_pool_epoch=09-val_acc=0.9031-val_loss=0.2669.ckpt as top 1\n"
     ]
    },
    {
     "data": {
      "application/vnd.jupyter.widget-view+json": {
       "model_id": "",
       "version_major": 2,
       "version_minor": 0
      },
      "text/plain": [
       "HBox(children=(FloatProgress(value=0.0, description='Validating', layout=Layout(flex='2'), max=313.0, style=Pr…"
      ]
     },
     "metadata": {},
     "output_type": "display_data"
    },
    {
     "name": "stderr",
     "output_type": "stream",
     "text": [
      "INFO:lightning:\n",
      "Epoch 00010: val_acc  was not in top 1\n"
     ]
    },
    {
     "data": {
      "application/vnd.jupyter.widget-view+json": {
       "model_id": "",
       "version_major": 2,
       "version_minor": 0
      },
      "text/plain": [
       "HBox(children=(FloatProgress(value=0.0, description='Validating', layout=Layout(flex='2'), max=313.0, style=Pr…"
      ]
     },
     "metadata": {},
     "output_type": "display_data"
    },
    {
     "name": "stderr",
     "output_type": "stream",
     "text": [
      "INFO:lightning:\n",
      "Epoch 00011: val_acc reached 0.90905 (best 0.90905), saving model to models/Resnetish8_1intro_layer_L1_64_2_s2_L2_128_2_s2_L3_256_s2_avg_pool/Resnetish8_1intro_layer_L1_64_2_s2_L2_128_2_s2_L3_256_s2_avg_pool_epoch=11-val_acc=0.9090-val_loss=0.2538.ckpt as top 1\n"
     ]
    },
    {
     "data": {
      "application/vnd.jupyter.widget-view+json": {
       "model_id": "",
       "version_major": 2,
       "version_minor": 0
      },
      "text/plain": [
       "HBox(children=(FloatProgress(value=0.0, description='Validating', layout=Layout(flex='2'), max=313.0, style=Pr…"
      ]
     },
     "metadata": {},
     "output_type": "display_data"
    },
    {
     "name": "stderr",
     "output_type": "stream",
     "text": [
      "INFO:lightning:\n",
      "Epoch 00012: val_acc reached 0.91344 (best 0.91344), saving model to models/Resnetish8_1intro_layer_L1_64_2_s2_L2_128_2_s2_L3_256_s2_avg_pool/Resnetish8_1intro_layer_L1_64_2_s2_L2_128_2_s2_L3_256_s2_avg_pool_epoch=12-val_acc=0.9134-val_loss=0.2389.ckpt as top 1\n"
     ]
    },
    {
     "data": {
      "application/vnd.jupyter.widget-view+json": {
       "model_id": "",
       "version_major": 2,
       "version_minor": 0
      },
      "text/plain": [
       "HBox(children=(FloatProgress(value=0.0, description='Validating', layout=Layout(flex='2'), max=313.0, style=Pr…"
      ]
     },
     "metadata": {},
     "output_type": "display_data"
    },
    {
     "name": "stderr",
     "output_type": "stream",
     "text": [
      "INFO:lightning:\n",
      "Epoch 00013: val_acc  was not in top 1\n"
     ]
    },
    {
     "data": {
      "application/vnd.jupyter.widget-view+json": {
       "model_id": "",
       "version_major": 2,
       "version_minor": 0
      },
      "text/plain": [
       "HBox(children=(FloatProgress(value=0.0, description='Validating', layout=Layout(flex='2'), max=313.0, style=Pr…"
      ]
     },
     "metadata": {},
     "output_type": "display_data"
    },
    {
     "name": "stderr",
     "output_type": "stream",
     "text": [
      "INFO:lightning:\n",
      "Epoch 00014: val_acc reached 0.91494 (best 0.91494), saving model to models/Resnetish8_1intro_layer_L1_64_2_s2_L2_128_2_s2_L3_256_s2_avg_pool/Resnetish8_1intro_layer_L1_64_2_s2_L2_128_2_s2_L3_256_s2_avg_pool_epoch=14-val_acc=0.9149-val_loss=0.2396.ckpt as top 1\n"
     ]
    },
    {
     "data": {
      "application/vnd.jupyter.widget-view+json": {
       "model_id": "",
       "version_major": 2,
       "version_minor": 0
      },
      "text/plain": [
       "HBox(children=(FloatProgress(value=0.0, description='Validating', layout=Layout(flex='2'), max=313.0, style=Pr…"
      ]
     },
     "metadata": {},
     "output_type": "display_data"
    },
    {
     "name": "stderr",
     "output_type": "stream",
     "text": [
      "INFO:lightning:\n",
      "Epoch 00015: val_acc reached 0.91953 (best 0.91953), saving model to models/Resnetish8_1intro_layer_L1_64_2_s2_L2_128_2_s2_L3_256_s2_avg_pool/Resnetish8_1intro_layer_L1_64_2_s2_L2_128_2_s2_L3_256_s2_avg_pool_epoch=15-val_acc=0.9195-val_loss=0.2240.ckpt as top 1\n"
     ]
    },
    {
     "data": {
      "application/vnd.jupyter.widget-view+json": {
       "model_id": "",
       "version_major": 2,
       "version_minor": 0
      },
      "text/plain": [
       "HBox(children=(FloatProgress(value=0.0, description='Validating', layout=Layout(flex='2'), max=313.0, style=Pr…"
      ]
     },
     "metadata": {},
     "output_type": "display_data"
    },
    {
     "name": "stderr",
     "output_type": "stream",
     "text": [
      "INFO:lightning:\n",
      "Epoch 00016: val_acc reached 0.92202 (best 0.92202), saving model to models/Resnetish8_1intro_layer_L1_64_2_s2_L2_128_2_s2_L3_256_s2_avg_pool/Resnetish8_1intro_layer_L1_64_2_s2_L2_128_2_s2_L3_256_s2_avg_pool_epoch=16-val_acc=0.9220-val_loss=0.2169.ckpt as top 1\n"
     ]
    },
    {
     "data": {
      "application/vnd.jupyter.widget-view+json": {
       "model_id": "",
       "version_major": 2,
       "version_minor": 0
      },
      "text/plain": [
       "HBox(children=(FloatProgress(value=0.0, description='Validating', layout=Layout(flex='2'), max=313.0, style=Pr…"
      ]
     },
     "metadata": {},
     "output_type": "display_data"
    },
    {
     "name": "stderr",
     "output_type": "stream",
     "text": [
      "INFO:lightning:\n",
      "Epoch 00017: val_acc reached 0.92262 (best 0.92262), saving model to models/Resnetish8_1intro_layer_L1_64_2_s2_L2_128_2_s2_L3_256_s2_avg_pool/Resnetish8_1intro_layer_L1_64_2_s2_L2_128_2_s2_L3_256_s2_avg_pool_epoch=17-val_acc=0.9226-val_loss=0.2134.ckpt as top 1\n"
     ]
    },
    {
     "data": {
      "application/vnd.jupyter.widget-view+json": {
       "model_id": "",
       "version_major": 2,
       "version_minor": 0
      },
      "text/plain": [
       "HBox(children=(FloatProgress(value=0.0, description='Validating', layout=Layout(flex='2'), max=313.0, style=Pr…"
      ]
     },
     "metadata": {},
     "output_type": "display_data"
    },
    {
     "name": "stderr",
     "output_type": "stream",
     "text": [
      "INFO:lightning:\n",
      "Epoch 00018: val_acc reached 0.92492 (best 0.92492), saving model to models/Resnetish8_1intro_layer_L1_64_2_s2_L2_128_2_s2_L3_256_s2_avg_pool/Resnetish8_1intro_layer_L1_64_2_s2_L2_128_2_s2_L3_256_s2_avg_pool_epoch=18-val_acc=0.9249-val_loss=0.2123.ckpt as top 1\n"
     ]
    },
    {
     "data": {
      "application/vnd.jupyter.widget-view+json": {
       "model_id": "",
       "version_major": 2,
       "version_minor": 0
      },
      "text/plain": [
       "HBox(children=(FloatProgress(value=0.0, description='Validating', layout=Layout(flex='2'), max=313.0, style=Pr…"
      ]
     },
     "metadata": {},
     "output_type": "display_data"
    },
    {
     "name": "stderr",
     "output_type": "stream",
     "text": [
      "INFO:lightning:\n",
      "Epoch 00019: val_acc reached 0.92732 (best 0.92732), saving model to models/Resnetish8_1intro_layer_L1_64_2_s2_L2_128_2_s2_L3_256_s2_avg_pool/Resnetish8_1intro_layer_L1_64_2_s2_L2_128_2_s2_L3_256_s2_avg_pool_epoch=19-val_acc=0.9273-val_loss=0.2145.ckpt as top 1\n"
     ]
    },
    {
     "data": {
      "application/vnd.jupyter.widget-view+json": {
       "model_id": "",
       "version_major": 2,
       "version_minor": 0
      },
      "text/plain": [
       "HBox(children=(FloatProgress(value=0.0, description='Validating', layout=Layout(flex='2'), max=313.0, style=Pr…"
      ]
     },
     "metadata": {},
     "output_type": "display_data"
    },
    {
     "name": "stderr",
     "output_type": "stream",
     "text": [
      "INFO:lightning:\n",
      "Epoch 00020: val_acc  was not in top 1\n"
     ]
    },
    {
     "data": {
      "application/vnd.jupyter.widget-view+json": {
       "model_id": "",
       "version_major": 2,
       "version_minor": 0
      },
      "text/plain": [
       "HBox(children=(FloatProgress(value=0.0, description='Validating', layout=Layout(flex='2'), max=313.0, style=Pr…"
      ]
     },
     "metadata": {},
     "output_type": "display_data"
    },
    {
     "name": "stderr",
     "output_type": "stream",
     "text": [
      "INFO:lightning:\n",
      "Epoch 00021: val_acc  was not in top 1\n"
     ]
    },
    {
     "data": {
      "application/vnd.jupyter.widget-view+json": {
       "model_id": "",
       "version_major": 2,
       "version_minor": 0
      },
      "text/plain": [
       "HBox(children=(FloatProgress(value=0.0, description='Validating', layout=Layout(flex='2'), max=313.0, style=Pr…"
      ]
     },
     "metadata": {},
     "output_type": "display_data"
    },
    {
     "name": "stderr",
     "output_type": "stream",
     "text": [
      "INFO:lightning:\n",
      "Epoch 00022: val_acc reached 0.93211 (best 0.93211), saving model to models/Resnetish8_1intro_layer_L1_64_2_s2_L2_128_2_s2_L3_256_s2_avg_pool/Resnetish8_1intro_layer_L1_64_2_s2_L2_128_2_s2_L3_256_s2_avg_pool_epoch=22-val_acc=0.9321-val_loss=0.1971.ckpt as top 1\n"
     ]
    },
    {
     "data": {
      "application/vnd.jupyter.widget-view+json": {
       "model_id": "",
       "version_major": 2,
       "version_minor": 0
      },
      "text/plain": [
       "HBox(children=(FloatProgress(value=0.0, description='Validating', layout=Layout(flex='2'), max=313.0, style=Pr…"
      ]
     },
     "metadata": {},
     "output_type": "display_data"
    },
    {
     "name": "stderr",
     "output_type": "stream",
     "text": [
      "INFO:lightning:\n",
      "Epoch 00023: val_acc  was not in top 1\n"
     ]
    },
    {
     "data": {
      "application/vnd.jupyter.widget-view+json": {
       "model_id": "",
       "version_major": 2,
       "version_minor": 0
      },
      "text/plain": [
       "HBox(children=(FloatProgress(value=0.0, description='Validating', layout=Layout(flex='2'), max=313.0, style=Pr…"
      ]
     },
     "metadata": {},
     "output_type": "display_data"
    },
    {
     "name": "stderr",
     "output_type": "stream",
     "text": [
      "INFO:lightning:\n",
      "Epoch 00024: val_acc  was not in top 1\n"
     ]
    },
    {
     "data": {
      "application/vnd.jupyter.widget-view+json": {
       "model_id": "",
       "version_major": 2,
       "version_minor": 0
      },
      "text/plain": [
       "HBox(children=(FloatProgress(value=0.0, description='Validating', layout=Layout(flex='2'), max=313.0, style=Pr…"
      ]
     },
     "metadata": {},
     "output_type": "display_data"
    },
    {
     "name": "stderr",
     "output_type": "stream",
     "text": [
      "INFO:lightning:\n",
      "Epoch 00025: val_acc  was not in top 1\n"
     ]
    },
    {
     "data": {
      "application/vnd.jupyter.widget-view+json": {
       "model_id": "",
       "version_major": 2,
       "version_minor": 0
      },
      "text/plain": [
       "HBox(children=(FloatProgress(value=0.0, description='Validating', layout=Layout(flex='2'), max=313.0, style=Pr…"
      ]
     },
     "metadata": {},
     "output_type": "display_data"
    },
    {
     "name": "stderr",
     "output_type": "stream",
     "text": [
      "INFO:lightning:\n",
      "Epoch 00026: val_acc reached 0.93421 (best 0.93421), saving model to models/Resnetish8_1intro_layer_L1_64_2_s2_L2_128_2_s2_L3_256_s2_avg_pool/Resnetish8_1intro_layer_L1_64_2_s2_L2_128_2_s2_L3_256_s2_avg_pool_epoch=26-val_acc=0.9342-val_loss=0.2030.ckpt as top 1\n"
     ]
    },
    {
     "data": {
      "application/vnd.jupyter.widget-view+json": {
       "model_id": "",
       "version_major": 2,
       "version_minor": 0
      },
      "text/plain": [
       "HBox(children=(FloatProgress(value=0.0, description='Validating', layout=Layout(flex='2'), max=313.0, style=Pr…"
      ]
     },
     "metadata": {},
     "output_type": "display_data"
    },
    {
     "name": "stderr",
     "output_type": "stream",
     "text": [
      "INFO:lightning:\n",
      "Epoch 00027: val_acc reached 0.93520 (best 0.93520), saving model to models/Resnetish8_1intro_layer_L1_64_2_s2_L2_128_2_s2_L3_256_s2_avg_pool/Resnetish8_1intro_layer_L1_64_2_s2_L2_128_2_s2_L3_256_s2_avg_pool_epoch=27-val_acc=0.9352-val_loss=0.2060.ckpt as top 1\n"
     ]
    },
    {
     "data": {
      "application/vnd.jupyter.widget-view+json": {
       "model_id": "",
       "version_major": 2,
       "version_minor": 0
      },
      "text/plain": [
       "HBox(children=(FloatProgress(value=0.0, description='Validating', layout=Layout(flex='2'), max=313.0, style=Pr…"
      ]
     },
     "metadata": {},
     "output_type": "display_data"
    },
    {
     "name": "stderr",
     "output_type": "stream",
     "text": [
      "INFO:lightning:\n",
      "Epoch 00028: val_acc reached 0.93630 (best 0.93630), saving model to models/Resnetish8_1intro_layer_L1_64_2_s2_L2_128_2_s2_L3_256_s2_avg_pool/Resnetish8_1intro_layer_L1_64_2_s2_L2_128_2_s2_L3_256_s2_avg_pool_epoch=28-val_acc=0.9363-val_loss=0.1980.ckpt as top 1\n"
     ]
    },
    {
     "data": {
      "application/vnd.jupyter.widget-view+json": {
       "model_id": "",
       "version_major": 2,
       "version_minor": 0
      },
      "text/plain": [
       "HBox(children=(FloatProgress(value=0.0, description='Validating', layout=Layout(flex='2'), max=313.0, style=Pr…"
      ]
     },
     "metadata": {},
     "output_type": "display_data"
    },
    {
     "name": "stderr",
     "output_type": "stream",
     "text": [
      "INFO:lightning:\n",
      "Epoch 00029: val_acc reached 0.93710 (best 0.93710), saving model to models/Resnetish8_1intro_layer_L1_64_2_s2_L2_128_2_s2_L3_256_s2_avg_pool/Resnetish8_1intro_layer_L1_64_2_s2_L2_128_2_s2_L3_256_s2_avg_pool_epoch=29-val_acc=0.9371-val_loss=0.1994.ckpt as top 1\n"
     ]
    },
    {
     "data": {
      "application/vnd.jupyter.widget-view+json": {
       "model_id": "",
       "version_major": 2,
       "version_minor": 0
      },
      "text/plain": [
       "HBox(children=(FloatProgress(value=0.0, description='Validating', layout=Layout(flex='2'), max=313.0, style=Pr…"
      ]
     },
     "metadata": {},
     "output_type": "display_data"
    },
    {
     "name": "stderr",
     "output_type": "stream",
     "text": [
      "INFO:lightning:\n",
      "Epoch 00030: val_acc  was not in top 1\n"
     ]
    },
    {
     "data": {
      "application/vnd.jupyter.widget-view+json": {
       "model_id": "",
       "version_major": 2,
       "version_minor": 0
      },
      "text/plain": [
       "HBox(children=(FloatProgress(value=0.0, description='Validating', layout=Layout(flex='2'), max=313.0, style=Pr…"
      ]
     },
     "metadata": {},
     "output_type": "display_data"
    },
    {
     "name": "stderr",
     "output_type": "stream",
     "text": [
      "INFO:lightning:\n",
      "Epoch 00031: val_acc reached 0.94139 (best 0.94139), saving model to models/Resnetish8_1intro_layer_L1_64_2_s2_L2_128_2_s2_L3_256_s2_avg_pool/Resnetish8_1intro_layer_L1_64_2_s2_L2_128_2_s2_L3_256_s2_avg_pool_epoch=31-val_acc=0.9414-val_loss=0.1931.ckpt as top 1\n"
     ]
    },
    {
     "data": {
      "application/vnd.jupyter.widget-view+json": {
       "model_id": "",
       "version_major": 2,
       "version_minor": 0
      },
      "text/plain": [
       "HBox(children=(FloatProgress(value=0.0, description='Validating', layout=Layout(flex='2'), max=313.0, style=Pr…"
      ]
     },
     "metadata": {},
     "output_type": "display_data"
    },
    {
     "name": "stderr",
     "output_type": "stream",
     "text": [
      "INFO:lightning:\n",
      "Epoch 00032: val_acc  was not in top 1\n"
     ]
    },
    {
     "data": {
      "application/vnd.jupyter.widget-view+json": {
       "model_id": "",
       "version_major": 2,
       "version_minor": 0
      },
      "text/plain": [
       "HBox(children=(FloatProgress(value=0.0, description='Validating', layout=Layout(flex='2'), max=313.0, style=Pr…"
      ]
     },
     "metadata": {},
     "output_type": "display_data"
    },
    {
     "name": "stderr",
     "output_type": "stream",
     "text": [
      "INFO:lightning:\n",
      "Epoch 00033: val_acc  was not in top 1\n"
     ]
    },
    {
     "data": {
      "application/vnd.jupyter.widget-view+json": {
       "model_id": "",
       "version_major": 2,
       "version_minor": 0
      },
      "text/plain": [
       "HBox(children=(FloatProgress(value=0.0, description='Validating', layout=Layout(flex='2'), max=313.0, style=Pr…"
      ]
     },
     "metadata": {},
     "output_type": "display_data"
    },
    {
     "name": "stderr",
     "output_type": "stream",
     "text": [
      "INFO:lightning:\n",
      "Epoch 00034: val_acc  was not in top 1\n"
     ]
    },
    {
     "data": {
      "application/vnd.jupyter.widget-view+json": {
       "model_id": "",
       "version_major": 2,
       "version_minor": 0
      },
      "text/plain": [
       "HBox(children=(FloatProgress(value=0.0, description='Validating', layout=Layout(flex='2'), max=313.0, style=Pr…"
      ]
     },
     "metadata": {},
     "output_type": "display_data"
    },
    {
     "name": "stderr",
     "output_type": "stream",
     "text": [
      "INFO:lightning:\n",
      "Epoch 00035: val_acc reached 0.94219 (best 0.94219), saving model to models/Resnetish8_1intro_layer_L1_64_2_s2_L2_128_2_s2_L3_256_s2_avg_pool/Resnetish8_1intro_layer_L1_64_2_s2_L2_128_2_s2_L3_256_s2_avg_pool_epoch=35-val_acc=0.9422-val_loss=0.1970.ckpt as top 1\n"
     ]
    },
    {
     "data": {
      "application/vnd.jupyter.widget-view+json": {
       "model_id": "",
       "version_major": 2,
       "version_minor": 0
      },
      "text/plain": [
       "HBox(children=(FloatProgress(value=0.0, description='Validating', layout=Layout(flex='2'), max=313.0, style=Pr…"
      ]
     },
     "metadata": {},
     "output_type": "display_data"
    },
    {
     "name": "stderr",
     "output_type": "stream",
     "text": [
      "INFO:lightning:\n",
      "Epoch 00036: val_acc reached 0.94269 (best 0.94269), saving model to models/Resnetish8_1intro_layer_L1_64_2_s2_L2_128_2_s2_L3_256_s2_avg_pool/Resnetish8_1intro_layer_L1_64_2_s2_L2_128_2_s2_L3_256_s2_avg_pool_epoch=36-val_acc=0.9427-val_loss=0.1962.ckpt as top 1\n"
     ]
    },
    {
     "data": {
      "application/vnd.jupyter.widget-view+json": {
       "model_id": "",
       "version_major": 2,
       "version_minor": 0
      },
      "text/plain": [
       "HBox(children=(FloatProgress(value=0.0, description='Validating', layout=Layout(flex='2'), max=313.0, style=Pr…"
      ]
     },
     "metadata": {},
     "output_type": "display_data"
    },
    {
     "name": "stderr",
     "output_type": "stream",
     "text": [
      "INFO:lightning:\n",
      "Epoch 00037: val_acc  was not in top 1\n"
     ]
    },
    {
     "data": {
      "application/vnd.jupyter.widget-view+json": {
       "model_id": "",
       "version_major": 2,
       "version_minor": 0
      },
      "text/plain": [
       "HBox(children=(FloatProgress(value=0.0, description='Validating', layout=Layout(flex='2'), max=313.0, style=Pr…"
      ]
     },
     "metadata": {},
     "output_type": "display_data"
    },
    {
     "name": "stderr",
     "output_type": "stream",
     "text": [
      "INFO:lightning:\n",
      "Epoch 00038: val_acc  was not in top 1\n"
     ]
    },
    {
     "data": {
      "application/vnd.jupyter.widget-view+json": {
       "model_id": "",
       "version_major": 2,
       "version_minor": 0
      },
      "text/plain": [
       "HBox(children=(FloatProgress(value=0.0, description='Validating', layout=Layout(flex='2'), max=313.0, style=Pr…"
      ]
     },
     "metadata": {},
     "output_type": "display_data"
    },
    {
     "name": "stderr",
     "output_type": "stream",
     "text": [
      "INFO:lightning:\n",
      "Epoch 00039: val_acc  was not in top 1\n"
     ]
    },
    {
     "name": "stdout",
     "output_type": "stream",
     "text": [
      "\n"
     ]
    },
    {
     "name": "stderr",
     "output_type": "stream",
     "text": [
      "/home/sergey/p/lrn/lrnenv/lib/python3.6/site-packages/pytorch_lightning/utilities/warnings.py:18: UserWarning: The dataloader, test dataloader 0, does not have many workers which may be a bottleneck. Consider increasing the value of the `num_workers` argument` in the `DataLoader` init to improve performance.\n",
      "  warnings.warn(*args, **kwargs)\n"
     ]
    },
    {
     "data": {
      "application/vnd.jupyter.widget-view+json": {
       "model_id": "651e66680b0f4d36bfb611aa73c745f9",
       "version_major": 2,
       "version_minor": 0
      },
      "text/plain": [
       "HBox(children=(FloatProgress(value=0.0, description='Testing', layout=Layout(flex='2'), max=313.0, style=Progr…"
      ]
     },
     "metadata": {},
     "output_type": "display_data"
    },
    {
     "name": "stdout",
     "output_type": "stream",
     "text": [
      "--------------------------------------------------------------------------------\n",
      "TEST RESULTS\n",
      "{'test_acc': 0.9425918459892273, 'test_loss': 0.19604039192199707}\n",
      "--------------------------------------------------------------------------------\n",
      "\n"
     ]
    }
   ],
   "source": [
    "if __name__ == '__main__':\n",
    "    parent_parser = ArgumentParser(add_help=False)\n",
    "\n",
    "    # gpu args\n",
    "    parent_parser.add_argument(\n",
    "        '--gpus',\n",
    "        type=int,\n",
    "        default=1,\n",
    "        help='how many gpus'\n",
    "    )\n",
    "\n",
    "    parser = Model.add_model_specific_args(parent_parser)\n",
    "    hyperparams = parser.parse_args([\n",
    "        \"--learning_rate\", \"0.001\",\n",
    "        \"--epochs\", \"40\"])\n",
    "    main(hyperparams)"
   ]
  },
  {
   "cell_type": "code",
   "execution_count": null,
   "metadata": {},
   "outputs": [],
   "source": []
  }
 ],
 "metadata": {
  "kernelspec": {
   "display_name": "Python 3",
   "language": "python",
   "name": "python3"
  },
  "language_info": {
   "codemirror_mode": {
    "name": "ipython",
    "version": 3
   },
   "file_extension": ".py",
   "mimetype": "text/x-python",
   "name": "python",
   "nbconvert_exporter": "python",
   "pygments_lexer": "ipython3",
   "version": "3.6.9"
  }
 },
 "nbformat": 4,
 "nbformat_minor": 4
}
