{
 "cells": [
  {
   "cell_type": "code",
   "execution_count": 1,
   "metadata": {},
   "outputs": [],
   "source": [
    "#!/usr/bin/env python\n",
    "# coding: utf-8\n",
    "\n",
    "import os\n",
    "\n",
    "import torch\n",
    "from pytorch_lightning.callbacks import ModelCheckpoint\n",
    "from torch import nn\n",
    "from torch.nn import functional as F\n",
    "import torchvision\n",
    "import torchvision.transforms as transforms\n",
    "from torch.utils.data import DataLoader\n",
    "from torchvision.datasets import MNIST, FashionMNIST\n",
    "\n",
    "from argparse import ArgumentParser\n",
    "\n",
    "import pytorch_lightning as pl\n",
    "from pytorch_lightning.loggers import TensorBoardLogger\n",
    "from pytorch_lightning import Trainer\n",
    "from collections import OrderedDict\n",
    "from torch import optim\n",
    "import numpy as np\n",
    "from dataclasses import dataclass\n",
    "from torchvision.models.resnet import conv1x1, conv3x3, resnet18\n",
    "from torchsummary import summary\n",
    "\n",
    "def reduce_mean_dicts(list_dicts, key):\n",
    "    if not list_dicts:\n",
    "        return 0.\n",
    "\n",
    "    s = sum([d[key] for d in list_dicts], 0.)\n",
    "    return s / len(list_dicts)\n",
    "\n",
    "\n",
    "@dataclass\n",
    "class Params:\n",
    "    batch_size_train: int\n",
    "    batch_size_val: int\n",
    "    path_data: str\n",
    "    learning_rate: float"
   ]
  },
  {
   "cell_type": "code",
   "execution_count": null,
   "metadata": {},
   "outputs": [],
   "source": []
  },
  {
   "cell_type": "code",
   "execution_count": 2,
   "metadata": {},
   "outputs": [],
   "source": [
    "class BasicBlock(nn.Module):\n",
    "    expansion = 1\n",
    "\n",
    "    def __init__(self, inplanes, planes, stride=1, downsample=None, groups=1,\n",
    "                 base_width=64, dilation=1, norm_layer=None):\n",
    "        super(BasicBlock, self).__init__()\n",
    "        if norm_layer is None:\n",
    "            norm_layer = nn.BatchNorm2d\n",
    "        if groups != 1 or base_width != 64:\n",
    "            raise ValueError('BasicBlock only supports groups=1 and base_width=64')\n",
    "        if dilation > 1:\n",
    "            raise NotImplementedError(\"Dilation > 1 not supported in BasicBlock\")\n",
    "        # Both self.conv1 and self.downsample layers downsample the input when stride != 1\n",
    "        self.conv1 = conv3x3(inplanes, planes, stride)\n",
    "        self.bn1 = norm_layer(planes)\n",
    "        self.relu = nn.ReLU(inplace=True)\n",
    "        self.conv2 = conv3x3(planes, planes)\n",
    "        self.bn2 = norm_layer(planes)\n",
    "        self.downsample = downsample\n",
    "        self.stride = stride\n",
    "\n",
    "    def forward(self, x):\n",
    "        identity = x\n",
    "\n",
    "        out = self.conv1(x)\n",
    "        out = self.bn1(out)\n",
    "        out = self.relu(out)\n",
    "\n",
    "        out = self.conv2(out)\n",
    "        out = self.bn2(out)\n",
    "\n",
    "        if self.downsample is not None:\n",
    "            identity = self.downsample(x)\n",
    "\n",
    "        out += identity\n",
    "        out = self.relu(out)\n",
    "\n",
    "        return out"
   ]
  },
  {
   "cell_type": "code",
   "execution_count": 3,
   "metadata": {},
   "outputs": [],
   "source": [
    "class ResNetPart(nn.Module):\n",
    "\n",
    "    def __init__(self, zero_init_residual=False):\n",
    "        super(ResNetPart, self).__init__()\n",
    "        \n",
    "        self._norm_layer = nn.BatchNorm2d\n",
    "\n",
    "        self.inplanes = 64\n",
    "        self.dilation = 1\n",
    "        self.groups = 1\n",
    "        self.base_width = 64\n",
    "\n",
    "        self.layer1 = self._make_layer(BasicBlock, 64, 3, stride=2)\n",
    "        self.layer2 = self._make_layer(BasicBlock, 128, 3, stride=2)\n",
    "        self.layer3 = self._make_layer(BasicBlock, 256, 3, stride=2)\n",
    "        \n",
    "        for m in self.modules():\n",
    "            if isinstance(m, nn.Conv2d):\n",
    "                nn.init.kaiming_normal_(m.weight, mode='fan_out', nonlinearity='relu')\n",
    "            elif isinstance(m, (nn.BatchNorm2d, nn.GroupNorm)):\n",
    "                nn.init.constant_(m.weight, 1)\n",
    "                nn.init.constant_(m.bias, 0)\n",
    "\n",
    "        # Zero-initialize the last BN in each residual branch,\n",
    "        # so that the residual branch starts with zeros, and each residual block behaves like an identity.\n",
    "        # This improves the model by 0.2~0.3% according to https://arxiv.org/abs/1706.02677\n",
    "        if zero_init_residual:\n",
    "            for m in self.modules():\n",
    "                if isinstance(m, Bottleneck):\n",
    "                    nn.init.constant_(m.bn3.weight, 0)\n",
    "                elif isinstance(m, BasicBlock):\n",
    "                    nn.init.constant_(m.bn2.weight, 0)\n",
    "\n",
    "    def _make_layer(self, block, planes, blocks, stride=1, dilate=False):\n",
    "        norm_layer = self._norm_layer\n",
    "        downsample = None\n",
    "        previous_dilation = self.dilation\n",
    "        if dilate:\n",
    "            self.dilation *= stride\n",
    "            stride = 1\n",
    "        if stride != 1 or self.inplanes != planes * block.expansion:\n",
    "            print(\"downsample\")\n",
    "            downsample = nn.Sequential(\n",
    "                conv1x1(self.inplanes, planes * block.expansion, stride),\n",
    "                norm_layer(planes * block.expansion),\n",
    "            )\n",
    "\n",
    "        layers = []\n",
    "        layers.append(block(self.inplanes, planes, stride, downsample, 1, \n",
    "                            64, previous_dilation, norm_layer))\n",
    "        self.inplanes = planes * block.expansion\n",
    "        for _ in range(1, blocks):\n",
    "            layers.append(block(self.inplanes, planes, groups=self.groups,\n",
    "                                base_width=self.base_width, dilation=self.dilation,\n",
    "                                norm_layer=norm_layer))\n",
    "\n",
    "        return nn.Sequential(*layers)\n",
    "\n",
    "    def _forward_impl(self, x):\n",
    "        x = self.layer1(x)\n",
    "        x = self.layer2(x)\n",
    "        x = self.layer3(x)\n",
    "        return x\n",
    "\n",
    "    def forward(self, x):\n",
    "        return self._forward_impl(x)"
   ]
  },
  {
   "cell_type": "code",
   "execution_count": null,
   "metadata": {},
   "outputs": [],
   "source": []
  },
  {
   "cell_type": "code",
   "execution_count": 4,
   "metadata": {},
   "outputs": [],
   "source": [
    "class Model(pl.LightningModule):\n",
    "\n",
    "    def __init__(self, hparams: Params):\n",
    "        super().__init__()\n",
    "\n",
    "        self.hparams = hparams\n",
    "        self.model = nn.Sequential(\n",
    "            nn.Conv2d(1, 64, 3, padding=1),\n",
    "            nn.BatchNorm2d(64),\n",
    "            nn.ReLU(),\n",
    "           \n",
    "            ResNetPart(),\n",
    "            \n",
    "            nn.AdaptiveAvgPool2d((1, 1)),\n",
    "            nn.Flatten(1),\n",
    "            nn.Linear(256, 10),\n",
    "        )\n",
    "        self.loss = F.cross_entropy\n",
    "        self.train_dataset = None\n",
    "        self.val_dataset = None\n",
    "        \n",
    "        self.tfms_common = [\n",
    "            transforms.ToTensor(),\n",
    "            transforms.Normalize((0.285,), (.3523*2,))\n",
    "        ]\n",
    "        self.tfms_train = [\n",
    "            transforms.RandomRotation(7., fill=(0,)),\n",
    "            transforms.RandomCrop(28, padding=3),\n",
    "        ]\n",
    "        \n",
    "\n",
    "    def forward(self, x):\n",
    "        return self.model(x)\n",
    "\n",
    "    def training_step(self, batch, batch_idx):\n",
    "        x, y = batch\n",
    "        y_hat = self.forward(x)\n",
    "         \n",
    "        loss_val = self.loss(y_hat, y, )\n",
    "\n",
    "        \n",
    "        tqdm_dict = {'train_loss': loss_val,\n",
    "                    }\n",
    "        \n",
    "        if batch_idx % 100 == 0:\n",
    "            tqdm_dict['lr'] = np.array(self.trainer.lr_schedulers[0]['scheduler'].get_lr())\n",
    "            \n",
    "        return OrderedDict({\n",
    "            'loss': loss_val,\n",
    "            'log': tqdm_dict\n",
    "        })\n",
    "\n",
    "    def validation_step(self, batch, batch_idx):\n",
    "        x, y = batch\n",
    "        y_hat = self.forward(x)\n",
    "\n",
    "        loss_val = self.loss(y_hat, y, )\n",
    "\n",
    "        # acc\n",
    "        labels_hat = torch.argmax(y_hat, dim=1)\n",
    "        val_acc = torch.sum(y == labels_hat).item() / (len(y) * 1.0)\n",
    "        val_acc = torch.tensor(val_acc)\n",
    "\n",
    "        if self.on_gpu:\n",
    "            val_acc = val_acc.cuda(loss_val.device.index)\n",
    "\n",
    "        output = OrderedDict({\n",
    "            'val_loss': loss_val,\n",
    "            'val_acc': val_acc,\n",
    "        })\n",
    "\n",
    "        return output\n",
    "\n",
    "    def validation_epoch_end(self, outputs):\n",
    "        loss_mean = reduce_mean_dicts(outputs, 'val_loss')\n",
    "        acc_mean = reduce_mean_dicts(outputs, 'val_acc')\n",
    "        tqdm_dict = {\n",
    "            'val_loss': loss_mean,\n",
    "            'val_acc': acc_mean\n",
    "        }\n",
    "        result = {'progress_bar': tqdm_dict, 'log': tqdm_dict, 'val_loss': loss_mean}\n",
    "        return result\n",
    "\n",
    "    def prepare_data(self):\n",
    "\n",
    "        mnist_train = FashionMNIST(self.hparams.path_data, train=True, download=True,\n",
    "                                   transform=transforms.Compose(self.tfms_train + self.tfms_common)\n",
    "                                  )\n",
    "        mnist_test = FashionMNIST(self.hparams.path_data, train=False, download=True,\n",
    "                                  transform=transforms.Compose(self.tfms_common)\n",
    "                                  )\n",
    "\n",
    "        #         mnist_train, mnist_val = random_split(mnist_train, [55000, 5000])\n",
    "\n",
    "        self.train_dataset = mnist_train\n",
    "        self.val_dataset = mnist_test\n",
    "\n",
    "    def train_dataloader(self):\n",
    "        if self.train_dataset is None:\n",
    "            self.prepare_data()\n",
    "        return DataLoader(self.train_dataset, batch_size=self.hparams.batch_size_train, num_workers=0)\n",
    "\n",
    "    def val_dataloader(self):\n",
    "        if self.val_dataset is None:\n",
    "            self.prepare_data()\n",
    "        return DataLoader(self.val_dataset, batch_size=self.hparams.batch_size_val, num_workers=0)\n",
    "\n",
    "    def test_dataloader(self):\n",
    "        return DataLoader(self.val_dataset, batch_size=self.hparams.batch_size_val, num_workers=0)\n",
    "\n",
    "    def configure_optimizers(self):\n",
    "        \"\"\"\n",
    "        Return whatever optimizers and learning rate schedulers you want here.\n",
    "        At least one optimizer is required.\n",
    "        \"\"\"\n",
    "        optimizer = optim.Adam(self.parameters(), lr=self.hparams.learning_rate)\n",
    "        scheduler = optim.lr_scheduler.OneCycleLR(optimizer, max_lr=self.hparams.learning_rate, \n",
    "                                                  steps_per_epoch=1, \n",
    "                                                  epochs=self.trainer.max_epochs\n",
    "                                                  )\n",
    "        return [optimizer], [scheduler]\n",
    "\n",
    "    @staticmethod\n",
    "    def add_model_specific_args(parent_parser):  # pragma: no-cover\n",
    "        parser = ArgumentParser(parents=[parent_parser])\n",
    "\n",
    "        parser.add_argument('--learning_rate', default=0.01, type=float)\n",
    "        parser.add_argument('--batch_size_train', default=64, type=int)\n",
    "        parser.add_argument('--batch_size_val', default=32, type=int)\n",
    "        parser.add_argument('--path_data', default=\"./data\", type=str)\n",
    "\n",
    "        # training params (opt)\n",
    "        parser.add_argument('--epochs', default=20, type=int)\n",
    "        return parser\n",
    "\n",
    "    def test_step(self, batch, batch_idx):\n",
    "        \"\"\"\n",
    "        Lightning calls this during testing, similar to `validation_step`,\n",
    "        with the data from the test dataloader passed in as `batch`.\n",
    "        \"\"\"\n",
    "        output = self.validation_step(batch, batch_idx)\n",
    "        # Rename output keys\n",
    "        output['test_loss'] = output.pop('val_loss')\n",
    "        output['test_acc'] = output.pop('val_acc')\n",
    "        return output\n",
    "\n",
    "    def test_epoch_end(self, outputs):\n",
    "        loss_mean = reduce_mean_dicts(outputs, 'test_loss')\n",
    "        acc_mean = reduce_mean_dicts(outputs, 'test_acc')\n",
    "        tqdm_dict = {\n",
    "            'test_loss': loss_mean,\n",
    "            'test_acc': acc_mean\n",
    "        }\n",
    "        result = {'progress_bar': tqdm_dict, 'log': tqdm_dict, 'test_loss': loss_mean}\n",
    "        return result"
   ]
  },
  {
   "cell_type": "code",
   "execution_count": 5,
   "metadata": {},
   "outputs": [
    {
     "name": "stdout",
     "output_type": "stream",
     "text": [
      "downsample\n",
      "downsample\n",
      "downsample\n",
      "----------------------------------------------------------------\n",
      "        Layer (type)               Output Shape         Param #\n",
      "================================================================\n",
      "            Conv2d-1           [-1, 64, 28, 28]             640\n",
      "       BatchNorm2d-2           [-1, 64, 28, 28]             128\n",
      "              ReLU-3           [-1, 64, 28, 28]               0\n",
      "            Conv2d-4           [-1, 64, 14, 14]          36,864\n",
      "       BatchNorm2d-5           [-1, 64, 14, 14]             128\n",
      "              ReLU-6           [-1, 64, 14, 14]               0\n",
      "            Conv2d-7           [-1, 64, 14, 14]          36,864\n",
      "       BatchNorm2d-8           [-1, 64, 14, 14]             128\n",
      "            Conv2d-9           [-1, 64, 14, 14]           4,096\n",
      "      BatchNorm2d-10           [-1, 64, 14, 14]             128\n",
      "             ReLU-11           [-1, 64, 14, 14]               0\n",
      "       BasicBlock-12           [-1, 64, 14, 14]               0\n",
      "           Conv2d-13           [-1, 64, 14, 14]          36,864\n",
      "      BatchNorm2d-14           [-1, 64, 14, 14]             128\n",
      "             ReLU-15           [-1, 64, 14, 14]               0\n",
      "           Conv2d-16           [-1, 64, 14, 14]          36,864\n",
      "      BatchNorm2d-17           [-1, 64, 14, 14]             128\n",
      "             ReLU-18           [-1, 64, 14, 14]               0\n",
      "       BasicBlock-19           [-1, 64, 14, 14]               0\n",
      "           Conv2d-20           [-1, 64, 14, 14]          36,864\n",
      "      BatchNorm2d-21           [-1, 64, 14, 14]             128\n",
      "             ReLU-22           [-1, 64, 14, 14]               0\n",
      "           Conv2d-23           [-1, 64, 14, 14]          36,864\n",
      "      BatchNorm2d-24           [-1, 64, 14, 14]             128\n",
      "             ReLU-25           [-1, 64, 14, 14]               0\n",
      "       BasicBlock-26           [-1, 64, 14, 14]               0\n",
      "           Conv2d-27            [-1, 128, 7, 7]          73,728\n",
      "      BatchNorm2d-28            [-1, 128, 7, 7]             256\n",
      "             ReLU-29            [-1, 128, 7, 7]               0\n",
      "           Conv2d-30            [-1, 128, 7, 7]         147,456\n",
      "      BatchNorm2d-31            [-1, 128, 7, 7]             256\n",
      "           Conv2d-32            [-1, 128, 7, 7]           8,192\n",
      "      BatchNorm2d-33            [-1, 128, 7, 7]             256\n",
      "             ReLU-34            [-1, 128, 7, 7]               0\n",
      "       BasicBlock-35            [-1, 128, 7, 7]               0\n",
      "           Conv2d-36            [-1, 128, 7, 7]         147,456\n",
      "      BatchNorm2d-37            [-1, 128, 7, 7]             256\n",
      "             ReLU-38            [-1, 128, 7, 7]               0\n",
      "           Conv2d-39            [-1, 128, 7, 7]         147,456\n",
      "      BatchNorm2d-40            [-1, 128, 7, 7]             256\n",
      "             ReLU-41            [-1, 128, 7, 7]               0\n",
      "       BasicBlock-42            [-1, 128, 7, 7]               0\n",
      "           Conv2d-43            [-1, 128, 7, 7]         147,456\n",
      "      BatchNorm2d-44            [-1, 128, 7, 7]             256\n",
      "             ReLU-45            [-1, 128, 7, 7]               0\n",
      "           Conv2d-46            [-1, 128, 7, 7]         147,456\n",
      "      BatchNorm2d-47            [-1, 128, 7, 7]             256\n",
      "             ReLU-48            [-1, 128, 7, 7]               0\n",
      "       BasicBlock-49            [-1, 128, 7, 7]               0\n",
      "           Conv2d-50            [-1, 256, 4, 4]         294,912\n",
      "      BatchNorm2d-51            [-1, 256, 4, 4]             512\n",
      "             ReLU-52            [-1, 256, 4, 4]               0\n",
      "           Conv2d-53            [-1, 256, 4, 4]         589,824\n",
      "      BatchNorm2d-54            [-1, 256, 4, 4]             512\n",
      "           Conv2d-55            [-1, 256, 4, 4]          32,768\n",
      "      BatchNorm2d-56            [-1, 256, 4, 4]             512\n",
      "             ReLU-57            [-1, 256, 4, 4]               0\n",
      "       BasicBlock-58            [-1, 256, 4, 4]               0\n",
      "           Conv2d-59            [-1, 256, 4, 4]         589,824\n",
      "      BatchNorm2d-60            [-1, 256, 4, 4]             512\n",
      "             ReLU-61            [-1, 256, 4, 4]               0\n",
      "           Conv2d-62            [-1, 256, 4, 4]         589,824\n",
      "      BatchNorm2d-63            [-1, 256, 4, 4]             512\n",
      "             ReLU-64            [-1, 256, 4, 4]               0\n",
      "       BasicBlock-65            [-1, 256, 4, 4]               0\n",
      "           Conv2d-66            [-1, 256, 4, 4]         589,824\n",
      "      BatchNorm2d-67            [-1, 256, 4, 4]             512\n",
      "             ReLU-68            [-1, 256, 4, 4]               0\n",
      "           Conv2d-69            [-1, 256, 4, 4]         589,824\n",
      "      BatchNorm2d-70            [-1, 256, 4, 4]             512\n",
      "             ReLU-71            [-1, 256, 4, 4]               0\n",
      "       BasicBlock-72            [-1, 256, 4, 4]               0\n",
      "       ResNetPart-73            [-1, 256, 4, 4]               0\n",
      "AdaptiveAvgPool2d-74            [-1, 256, 1, 1]               0\n",
      "          Flatten-75                  [-1, 256]               0\n",
      "           Linear-76                   [-1, 10]           2,570\n",
      "================================================================\n",
      "Total params: 4,330,890\n",
      "Trainable params: 4,330,890\n",
      "Non-trainable params: 0\n",
      "----------------------------------------------------------------\n",
      "Input size (MB): 0.00\n",
      "Forward/backward pass size (MB): 5.20\n",
      "Params size (MB): 16.52\n",
      "Estimated Total Size (MB): 21.73\n",
      "----------------------------------------------------------------\n"
     ]
    }
   ],
   "source": [
    "model = Model({})\n",
    "summary(model, (1, 28, 28), device='cpu')\n",
    "# model(torch.randn(10,1,28,28)).size()"
   ]
  },
  {
   "cell_type": "code",
   "execution_count": 6,
   "metadata": {},
   "outputs": [],
   "source": [
    "def main(hparams):\n",
    "    model = Model(hparams)\n",
    "    \n",
    "\n",
    "    name = \"Resnetish11_1intro_layer_L1_64_3_s2_L2_128_3_s2_L3_256_3_s2_avg_pool_batch128\"\n",
    "    logger = TensorBoardLogger(\"lightning_logs\", name=name)\n",
    "\n",
    "    checkpoint_callback = ModelCheckpoint(\n",
    "        filepath=os.path.join('models', name, name+'_{epoch:02d}-{val_acc:.4f}-{val_loss:.4f}'),\n",
    "        save_top_k=1,\n",
    "        verbose=True,\n",
    "        monitor='val_acc',\n",
    "        mode='max',\n",
    "        prefix=''\n",
    "    )\n",
    "\n",
    "    trainer = pl.Trainer(\n",
    "        max_epochs=hparams.epochs,\n",
    "        gpus=hparams.gpus,\n",
    "        logger=logger,\n",
    "        checkpoint_callback=checkpoint_callback,\n",
    "        # precision=16 if hparams.use_16bit else 32,\n",
    "        progress_bar_refresh_rate=50,\n",
    "    )\n",
    "\n",
    "    trainer.fit(model)\n",
    "\n",
    "    trainer.test(model)"
   ]
  },
  {
   "cell_type": "code",
   "execution_count": null,
   "metadata": {},
   "outputs": [],
   "source": []
  },
  {
   "cell_type": "code",
   "execution_count": 7,
   "metadata": {
    "scrolled": false
   },
   "outputs": [
    {
     "name": "stderr",
     "output_type": "stream",
     "text": [
      "INFO:lightning:GPU available: True, used: True\n",
      "INFO:lightning:VISIBLE GPUS: 0\n"
     ]
    },
    {
     "name": "stdout",
     "output_type": "stream",
     "text": [
      "downsample\n",
      "downsample\n",
      "downsample\n"
     ]
    },
    {
     "name": "stderr",
     "output_type": "stream",
     "text": [
      "INFO:lightning:\n",
      "   | Name                          | Type              | Params\n",
      "----------------------------------------------------------------\n",
      "0  | model                         | Sequential        | 4 M   \n",
      "1  | model.0                       | Conv2d            | 640   \n",
      "2  | model.1                       | BatchNorm2d       | 128   \n",
      "3  | model.2                       | ReLU              | 0     \n",
      "4  | model.3                       | ResNetPart        | 4 M   \n",
      "5  | model.3.layer1                | Sequential        | 226 K \n",
      "6  | model.3.layer1.0              | BasicBlock        | 78 K  \n",
      "7  | model.3.layer1.0.conv1        | Conv2d            | 36 K  \n",
      "8  | model.3.layer1.0.bn1          | BatchNorm2d       | 128   \n",
      "9  | model.3.layer1.0.relu         | ReLU              | 0     \n",
      "10 | model.3.layer1.0.conv2        | Conv2d            | 36 K  \n",
      "11 | model.3.layer1.0.bn2          | BatchNorm2d       | 128   \n",
      "12 | model.3.layer1.0.downsample   | Sequential        | 4 K   \n",
      "13 | model.3.layer1.0.downsample.0 | Conv2d            | 4 K   \n",
      "14 | model.3.layer1.0.downsample.1 | BatchNorm2d       | 128   \n",
      "15 | model.3.layer1.1              | BasicBlock        | 73 K  \n",
      "16 | model.3.layer1.1.conv1        | Conv2d            | 36 K  \n",
      "17 | model.3.layer1.1.bn1          | BatchNorm2d       | 128   \n",
      "18 | model.3.layer1.1.relu         | ReLU              | 0     \n",
      "19 | model.3.layer1.1.conv2        | Conv2d            | 36 K  \n",
      "20 | model.3.layer1.1.bn2          | BatchNorm2d       | 128   \n",
      "21 | model.3.layer1.2              | BasicBlock        | 73 K  \n",
      "22 | model.3.layer1.2.conv1        | Conv2d            | 36 K  \n",
      "23 | model.3.layer1.2.bn1          | BatchNorm2d       | 128   \n",
      "24 | model.3.layer1.2.relu         | ReLU              | 0     \n",
      "25 | model.3.layer1.2.conv2        | Conv2d            | 36 K  \n",
      "26 | model.3.layer1.2.bn2          | BatchNorm2d       | 128   \n",
      "27 | model.3.layer2                | Sequential        | 820 K \n",
      "28 | model.3.layer2.0              | BasicBlock        | 230 K \n",
      "29 | model.3.layer2.0.conv1        | Conv2d            | 73 K  \n",
      "30 | model.3.layer2.0.bn1          | BatchNorm2d       | 256   \n",
      "31 | model.3.layer2.0.relu         | ReLU              | 0     \n",
      "32 | model.3.layer2.0.conv2        | Conv2d            | 147 K \n",
      "33 | model.3.layer2.0.bn2          | BatchNorm2d       | 256   \n",
      "34 | model.3.layer2.0.downsample   | Sequential        | 8 K   \n",
      "35 | model.3.layer2.0.downsample.0 | Conv2d            | 8 K   \n",
      "36 | model.3.layer2.0.downsample.1 | BatchNorm2d       | 256   \n",
      "37 | model.3.layer2.1              | BasicBlock        | 295 K \n",
      "38 | model.3.layer2.1.conv1        | Conv2d            | 147 K \n",
      "39 | model.3.layer2.1.bn1          | BatchNorm2d       | 256   \n",
      "40 | model.3.layer2.1.relu         | ReLU              | 0     \n",
      "41 | model.3.layer2.1.conv2        | Conv2d            | 147 K \n",
      "42 | model.3.layer2.1.bn2          | BatchNorm2d       | 256   \n",
      "43 | model.3.layer2.2              | BasicBlock        | 295 K \n",
      "44 | model.3.layer2.2.conv1        | Conv2d            | 147 K \n",
      "45 | model.3.layer2.2.bn1          | BatchNorm2d       | 256   \n",
      "46 | model.3.layer2.2.relu         | ReLU              | 0     \n",
      "47 | model.3.layer2.2.conv2        | Conv2d            | 147 K \n",
      "48 | model.3.layer2.2.bn2          | BatchNorm2d       | 256   \n",
      "49 | model.3.layer3                | Sequential        | 3 M   \n",
      "50 | model.3.layer3.0              | BasicBlock        | 919 K \n",
      "51 | model.3.layer3.0.conv1        | Conv2d            | 294 K \n",
      "52 | model.3.layer3.0.bn1          | BatchNorm2d       | 512   \n",
      "53 | model.3.layer3.0.relu         | ReLU              | 0     \n",
      "54 | model.3.layer3.0.conv2        | Conv2d            | 589 K \n",
      "55 | model.3.layer3.0.bn2          | BatchNorm2d       | 512   \n",
      "56 | model.3.layer3.0.downsample   | Sequential        | 33 K  \n",
      "57 | model.3.layer3.0.downsample.0 | Conv2d            | 32 K  \n",
      "58 | model.3.layer3.0.downsample.1 | BatchNorm2d       | 512   \n",
      "59 | model.3.layer3.1              | BasicBlock        | 1 M   \n",
      "60 | model.3.layer3.1.conv1        | Conv2d            | 589 K \n",
      "61 | model.3.layer3.1.bn1          | BatchNorm2d       | 512   \n",
      "62 | model.3.layer3.1.relu         | ReLU              | 0     \n",
      "63 | model.3.layer3.1.conv2        | Conv2d            | 589 K \n",
      "64 | model.3.layer3.1.bn2          | BatchNorm2d       | 512   \n",
      "65 | model.3.layer3.2              | BasicBlock        | 1 M   \n",
      "66 | model.3.layer3.2.conv1        | Conv2d            | 589 K \n",
      "67 | model.3.layer3.2.bn1          | BatchNorm2d       | 512   \n",
      "68 | model.3.layer3.2.relu         | ReLU              | 0     \n",
      "69 | model.3.layer3.2.conv2        | Conv2d            | 589 K \n",
      "70 | model.3.layer3.2.bn2          | BatchNorm2d       | 512   \n",
      "71 | model.4                       | AdaptiveAvgPool2d | 0     \n",
      "72 | model.5                       | Flatten           | 0     \n",
      "73 | model.6                       | Linear            | 2 K   \n",
      "/home/sergey/p/lrn/lrnenv/lib/python3.6/site-packages/pytorch_lightning/utilities/warnings.py:18: UserWarning: The dataloader, val dataloader 0, does not have many workers which may be a bottleneck. Consider increasing the value of the `num_workers` argument` in the `DataLoader` init to improve performance.\n",
      "  warnings.warn(*args, **kwargs)\n"
     ]
    },
    {
     "data": {
      "application/vnd.jupyter.widget-view+json": {
       "model_id": "",
       "version_major": 2,
       "version_minor": 0
      },
      "text/plain": [
       "HBox(children=(FloatProgress(value=0.0, description='Validation sanity check', layout=Layout(flex='2'), max=5.…"
      ]
     },
     "metadata": {},
     "output_type": "display_data"
    },
    {
     "data": {
      "application/vnd.jupyter.widget-view+json": {
       "model_id": "9c0b969b1abb45b5bf738dd94f5c1f1c",
       "version_major": 2,
       "version_minor": 0
      },
      "text/plain": [
       "HBox(children=(FloatProgress(value=1.0, bar_style='info', layout=Layout(flex='2'), max=1.0), HTML(value='')), …"
      ]
     },
     "metadata": {},
     "output_type": "display_data"
    },
    {
     "name": "stderr",
     "output_type": "stream",
     "text": [
      "/home/sergey/p/lrn/lrnenv/lib/python3.6/site-packages/pytorch_lightning/utilities/warnings.py:18: RuntimeWarning: Displayed epoch numbers in the progress bar start from \"1\" until v0.6.x, but will start from \"0\" in v0.8.0.\n",
      "  warnings.warn(*args, **kwargs)\n",
      "/home/sergey/p/lrn/lrnenv/lib/python3.6/site-packages/pytorch_lightning/utilities/warnings.py:18: UserWarning: The dataloader, train dataloader, does not have many workers which may be a bottleneck. Consider increasing the value of the `num_workers` argument` in the `DataLoader` init to improve performance.\n",
      "  warnings.warn(*args, **kwargs)\n"
     ]
    },
    {
     "data": {
      "application/vnd.jupyter.widget-view+json": {
       "model_id": "",
       "version_major": 2,
       "version_minor": 0
      },
      "text/plain": [
       "HBox(children=(FloatProgress(value=0.0, description='Validating', layout=Layout(flex='2'), max=313.0, style=Pr…"
      ]
     },
     "metadata": {},
     "output_type": "display_data"
    },
    {
     "name": "stderr",
     "output_type": "stream",
     "text": [
      "INFO:lightning:\n",
      "Epoch 00000: val_acc reached 0.79024 (best 0.79024), saving model to models/Resnetish11_1intro_layer_L1_64_3_s2_L2_128_3_s2_L3_256_3_s2_avg_pool_batch128/Resnetish11_1intro_layer_L1_64_3_s2_L2_128_3_s2_L3_256_3_s2_avg_pool_batch128_epoch=00-val_acc=0.7902-val_loss=0.5460.ckpt as top 1\n"
     ]
    },
    {
     "data": {
      "application/vnd.jupyter.widget-view+json": {
       "model_id": "",
       "version_major": 2,
       "version_minor": 0
      },
      "text/plain": [
       "HBox(children=(FloatProgress(value=0.0, description='Validating', layout=Layout(flex='2'), max=313.0, style=Pr…"
      ]
     },
     "metadata": {},
     "output_type": "display_data"
    },
    {
     "name": "stderr",
     "output_type": "stream",
     "text": [
      "INFO:lightning:\n",
      "Epoch 00001: val_acc reached 0.82668 (best 0.82668), saving model to models/Resnetish11_1intro_layer_L1_64_3_s2_L2_128_3_s2_L3_256_3_s2_avg_pool_batch128/Resnetish11_1intro_layer_L1_64_3_s2_L2_128_3_s2_L3_256_3_s2_avg_pool_batch128_epoch=01-val_acc=0.8267-val_loss=0.4506.ckpt as top 1\n"
     ]
    },
    {
     "data": {
      "application/vnd.jupyter.widget-view+json": {
       "model_id": "",
       "version_major": 2,
       "version_minor": 0
      },
      "text/plain": [
       "HBox(children=(FloatProgress(value=0.0, description='Validating', layout=Layout(flex='2'), max=313.0, style=Pr…"
      ]
     },
     "metadata": {},
     "output_type": "display_data"
    },
    {
     "name": "stderr",
     "output_type": "stream",
     "text": [
      "INFO:lightning:\n",
      "Epoch 00002: val_acc reached 0.84605 (best 0.84605), saving model to models/Resnetish11_1intro_layer_L1_64_3_s2_L2_128_3_s2_L3_256_3_s2_avg_pool_batch128/Resnetish11_1intro_layer_L1_64_3_s2_L2_128_3_s2_L3_256_3_s2_avg_pool_batch128_epoch=02-val_acc=0.8460-val_loss=0.4153.ckpt as top 1\n"
     ]
    },
    {
     "data": {
      "application/vnd.jupyter.widget-view+json": {
       "model_id": "",
       "version_major": 2,
       "version_minor": 0
      },
      "text/plain": [
       "HBox(children=(FloatProgress(value=0.0, description='Validating', layout=Layout(flex='2'), max=313.0, style=Pr…"
      ]
     },
     "metadata": {},
     "output_type": "display_data"
    },
    {
     "name": "stderr",
     "output_type": "stream",
     "text": [
      "INFO:lightning:\n",
      "Epoch 00003: val_acc reached 0.87061 (best 0.87061), saving model to models/Resnetish11_1intro_layer_L1_64_3_s2_L2_128_3_s2_L3_256_3_s2_avg_pool_batch128/Resnetish11_1intro_layer_L1_64_3_s2_L2_128_3_s2_L3_256_3_s2_avg_pool_batch128_epoch=03-val_acc=0.8706-val_loss=0.3460.ckpt as top 1\n"
     ]
    },
    {
     "data": {
      "application/vnd.jupyter.widget-view+json": {
       "model_id": "",
       "version_major": 2,
       "version_minor": 0
      },
      "text/plain": [
       "HBox(children=(FloatProgress(value=0.0, description='Validating', layout=Layout(flex='2'), max=313.0, style=Pr…"
      ]
     },
     "metadata": {},
     "output_type": "display_data"
    },
    {
     "name": "stderr",
     "output_type": "stream",
     "text": [
      "INFO:lightning:\n",
      "Epoch 00004: val_acc reached 0.88528 (best 0.88528), saving model to models/Resnetish11_1intro_layer_L1_64_3_s2_L2_128_3_s2_L3_256_3_s2_avg_pool_batch128/Resnetish11_1intro_layer_L1_64_3_s2_L2_128_3_s2_L3_256_3_s2_avg_pool_batch128_epoch=04-val_acc=0.8853-val_loss=0.3127.ckpt as top 1\n"
     ]
    },
    {
     "data": {
      "application/vnd.jupyter.widget-view+json": {
       "model_id": "",
       "version_major": 2,
       "version_minor": 0
      },
      "text/plain": [
       "HBox(children=(FloatProgress(value=0.0, description='Validating', layout=Layout(flex='2'), max=313.0, style=Pr…"
      ]
     },
     "metadata": {},
     "output_type": "display_data"
    },
    {
     "name": "stderr",
     "output_type": "stream",
     "text": [
      "INFO:lightning:\n",
      "Epoch 00005: val_acc  was not in top 1\n"
     ]
    },
    {
     "data": {
      "application/vnd.jupyter.widget-view+json": {
       "model_id": "",
       "version_major": 2,
       "version_minor": 0
      },
      "text/plain": [
       "HBox(children=(FloatProgress(value=0.0, description='Validating', layout=Layout(flex='2'), max=313.0, style=Pr…"
      ]
     },
     "metadata": {},
     "output_type": "display_data"
    },
    {
     "name": "stderr",
     "output_type": "stream",
     "text": [
      "INFO:lightning:\n",
      "Epoch 00006: val_acc reached 0.89856 (best 0.89856), saving model to models/Resnetish11_1intro_layer_L1_64_3_s2_L2_128_3_s2_L3_256_3_s2_avg_pool_batch128/Resnetish11_1intro_layer_L1_64_3_s2_L2_128_3_s2_L3_256_3_s2_avg_pool_batch128_epoch=06-val_acc=0.8986-val_loss=0.2876.ckpt as top 1\n"
     ]
    },
    {
     "data": {
      "application/vnd.jupyter.widget-view+json": {
       "model_id": "",
       "version_major": 2,
       "version_minor": 0
      },
      "text/plain": [
       "HBox(children=(FloatProgress(value=0.0, description='Validating', layout=Layout(flex='2'), max=313.0, style=Pr…"
      ]
     },
     "metadata": {},
     "output_type": "display_data"
    },
    {
     "name": "stderr",
     "output_type": "stream",
     "text": [
      "INFO:lightning:\n",
      "Epoch 00007: val_acc  was not in top 1\n"
     ]
    },
    {
     "data": {
      "application/vnd.jupyter.widget-view+json": {
       "model_id": "",
       "version_major": 2,
       "version_minor": 0
      },
      "text/plain": [
       "HBox(children=(FloatProgress(value=0.0, description='Validating', layout=Layout(flex='2'), max=313.0, style=Pr…"
      ]
     },
     "metadata": {},
     "output_type": "display_data"
    },
    {
     "name": "stderr",
     "output_type": "stream",
     "text": [
      "INFO:lightning:\n",
      "Epoch 00008: val_acc  was not in top 1\n"
     ]
    },
    {
     "data": {
      "application/vnd.jupyter.widget-view+json": {
       "model_id": "",
       "version_major": 2,
       "version_minor": 0
      },
      "text/plain": [
       "HBox(children=(FloatProgress(value=0.0, description='Validating', layout=Layout(flex='2'), max=313.0, style=Pr…"
      ]
     },
     "metadata": {},
     "output_type": "display_data"
    },
    {
     "name": "stderr",
     "output_type": "stream",
     "text": [
      "INFO:lightning:\n",
      "Epoch 00009: val_acc reached 0.90126 (best 0.90126), saving model to models/Resnetish11_1intro_layer_L1_64_3_s2_L2_128_3_s2_L3_256_3_s2_avg_pool_batch128/Resnetish11_1intro_layer_L1_64_3_s2_L2_128_3_s2_L3_256_3_s2_avg_pool_batch128_epoch=09-val_acc=0.9013-val_loss=0.2848.ckpt as top 1\n"
     ]
    },
    {
     "data": {
      "application/vnd.jupyter.widget-view+json": {
       "model_id": "",
       "version_major": 2,
       "version_minor": 0
      },
      "text/plain": [
       "HBox(children=(FloatProgress(value=0.0, description='Validating', layout=Layout(flex='2'), max=313.0, style=Pr…"
      ]
     },
     "metadata": {},
     "output_type": "display_data"
    },
    {
     "name": "stderr",
     "output_type": "stream",
     "text": [
      "INFO:lightning:\n",
      "Epoch 00010: val_acc reached 0.90565 (best 0.90565), saving model to models/Resnetish11_1intro_layer_L1_64_3_s2_L2_128_3_s2_L3_256_3_s2_avg_pool_batch128/Resnetish11_1intro_layer_L1_64_3_s2_L2_128_3_s2_L3_256_3_s2_avg_pool_batch128_epoch=10-val_acc=0.9057-val_loss=0.2715.ckpt as top 1\n"
     ]
    },
    {
     "data": {
      "application/vnd.jupyter.widget-view+json": {
       "model_id": "",
       "version_major": 2,
       "version_minor": 0
      },
      "text/plain": [
       "HBox(children=(FloatProgress(value=0.0, description='Validating', layout=Layout(flex='2'), max=313.0, style=Pr…"
      ]
     },
     "metadata": {},
     "output_type": "display_data"
    },
    {
     "name": "stderr",
     "output_type": "stream",
     "text": [
      "INFO:lightning:\n",
      "Epoch 00011: val_acc  was not in top 1\n"
     ]
    },
    {
     "data": {
      "application/vnd.jupyter.widget-view+json": {
       "model_id": "",
       "version_major": 2,
       "version_minor": 0
      },
      "text/plain": [
       "HBox(children=(FloatProgress(value=0.0, description='Validating', layout=Layout(flex='2'), max=313.0, style=Pr…"
      ]
     },
     "metadata": {},
     "output_type": "display_data"
    },
    {
     "name": "stderr",
     "output_type": "stream",
     "text": [
      "INFO:lightning:\n",
      "Epoch 00012: val_acc reached 0.91294 (best 0.91294), saving model to models/Resnetish11_1intro_layer_L1_64_3_s2_L2_128_3_s2_L3_256_3_s2_avg_pool_batch128/Resnetish11_1intro_layer_L1_64_3_s2_L2_128_3_s2_L3_256_3_s2_avg_pool_batch128_epoch=12-val_acc=0.9129-val_loss=0.2494.ckpt as top 1\n"
     ]
    },
    {
     "data": {
      "application/vnd.jupyter.widget-view+json": {
       "model_id": "",
       "version_major": 2,
       "version_minor": 0
      },
      "text/plain": [
       "HBox(children=(FloatProgress(value=0.0, description='Validating', layout=Layout(flex='2'), max=313.0, style=Pr…"
      ]
     },
     "metadata": {},
     "output_type": "display_data"
    },
    {
     "name": "stderr",
     "output_type": "stream",
     "text": [
      "INFO:lightning:\n",
      "Epoch 00013: val_acc reached 0.91603 (best 0.91603), saving model to models/Resnetish11_1intro_layer_L1_64_3_s2_L2_128_3_s2_L3_256_3_s2_avg_pool_batch128/Resnetish11_1intro_layer_L1_64_3_s2_L2_128_3_s2_L3_256_3_s2_avg_pool_batch128_epoch=13-val_acc=0.9160-val_loss=0.2555.ckpt as top 1\n"
     ]
    },
    {
     "data": {
      "application/vnd.jupyter.widget-view+json": {
       "model_id": "",
       "version_major": 2,
       "version_minor": 0
      },
      "text/plain": [
       "HBox(children=(FloatProgress(value=0.0, description='Validating', layout=Layout(flex='2'), max=313.0, style=Pr…"
      ]
     },
     "metadata": {},
     "output_type": "display_data"
    },
    {
     "name": "stderr",
     "output_type": "stream",
     "text": [
      "INFO:lightning:\n",
      "Epoch 00014: val_acc  was not in top 1\n"
     ]
    },
    {
     "data": {
      "application/vnd.jupyter.widget-view+json": {
       "model_id": "",
       "version_major": 2,
       "version_minor": 0
      },
      "text/plain": [
       "HBox(children=(FloatProgress(value=0.0, description='Validating', layout=Layout(flex='2'), max=313.0, style=Pr…"
      ]
     },
     "metadata": {},
     "output_type": "display_data"
    },
    {
     "name": "stderr",
     "output_type": "stream",
     "text": [
      "INFO:lightning:\n",
      "Epoch 00015: val_acc reached 0.91663 (best 0.91663), saving model to models/Resnetish11_1intro_layer_L1_64_3_s2_L2_128_3_s2_L3_256_3_s2_avg_pool_batch128/Resnetish11_1intro_layer_L1_64_3_s2_L2_128_3_s2_L3_256_3_s2_avg_pool_batch128_epoch=15-val_acc=0.9166-val_loss=0.2572.ckpt as top 1\n"
     ]
    },
    {
     "data": {
      "application/vnd.jupyter.widget-view+json": {
       "model_id": "",
       "version_major": 2,
       "version_minor": 0
      },
      "text/plain": [
       "HBox(children=(FloatProgress(value=0.0, description='Validating', layout=Layout(flex='2'), max=313.0, style=Pr…"
      ]
     },
     "metadata": {},
     "output_type": "display_data"
    },
    {
     "name": "stderr",
     "output_type": "stream",
     "text": [
      "INFO:lightning:\n",
      "Epoch 00016: val_acc  was not in top 1\n"
     ]
    },
    {
     "data": {
      "application/vnd.jupyter.widget-view+json": {
       "model_id": "",
       "version_major": 2,
       "version_minor": 0
      },
      "text/plain": [
       "HBox(children=(FloatProgress(value=0.0, description='Validating', layout=Layout(flex='2'), max=313.0, style=Pr…"
      ]
     },
     "metadata": {},
     "output_type": "display_data"
    },
    {
     "name": "stderr",
     "output_type": "stream",
     "text": [
      "INFO:lightning:\n",
      "Epoch 00017: val_acc  was not in top 1\n"
     ]
    },
    {
     "data": {
      "application/vnd.jupyter.widget-view+json": {
       "model_id": "",
       "version_major": 2,
       "version_minor": 0
      },
      "text/plain": [
       "HBox(children=(FloatProgress(value=0.0, description='Validating', layout=Layout(flex='2'), max=313.0, style=Pr…"
      ]
     },
     "metadata": {},
     "output_type": "display_data"
    },
    {
     "name": "stderr",
     "output_type": "stream",
     "text": [
      "INFO:lightning:\n",
      "Epoch 00018: val_acc  was not in top 1\n"
     ]
    },
    {
     "data": {
      "application/vnd.jupyter.widget-view+json": {
       "model_id": "",
       "version_major": 2,
       "version_minor": 0
      },
      "text/plain": [
       "HBox(children=(FloatProgress(value=0.0, description='Validating', layout=Layout(flex='2'), max=313.0, style=Pr…"
      ]
     },
     "metadata": {},
     "output_type": "display_data"
    },
    {
     "name": "stderr",
     "output_type": "stream",
     "text": [
      "INFO:lightning:\n",
      "Epoch 00019: val_acc  was not in top 1\n"
     ]
    },
    {
     "data": {
      "application/vnd.jupyter.widget-view+json": {
       "model_id": "",
       "version_major": 2,
       "version_minor": 0
      },
      "text/plain": [
       "HBox(children=(FloatProgress(value=0.0, description='Validating', layout=Layout(flex='2'), max=313.0, style=Pr…"
      ]
     },
     "metadata": {},
     "output_type": "display_data"
    },
    {
     "name": "stderr",
     "output_type": "stream",
     "text": [
      "INFO:lightning:\n",
      "Epoch 00020: val_acc  was not in top 1\n"
     ]
    },
    {
     "data": {
      "application/vnd.jupyter.widget-view+json": {
       "model_id": "",
       "version_major": 2,
       "version_minor": 0
      },
      "text/plain": [
       "HBox(children=(FloatProgress(value=0.0, description='Validating', layout=Layout(flex='2'), max=313.0, style=Pr…"
      ]
     },
     "metadata": {},
     "output_type": "display_data"
    },
    {
     "name": "stderr",
     "output_type": "stream",
     "text": [
      "INFO:lightning:\n",
      "Epoch 00021: val_acc reached 0.91903 (best 0.91903), saving model to models/Resnetish11_1intro_layer_L1_64_3_s2_L2_128_3_s2_L3_256_3_s2_avg_pool_batch128/Resnetish11_1intro_layer_L1_64_3_s2_L2_128_3_s2_L3_256_3_s2_avg_pool_batch128_epoch=21-val_acc=0.9190-val_loss=0.2355.ckpt as top 1\n"
     ]
    },
    {
     "data": {
      "application/vnd.jupyter.widget-view+json": {
       "model_id": "",
       "version_major": 2,
       "version_minor": 0
      },
      "text/plain": [
       "HBox(children=(FloatProgress(value=0.0, description='Validating', layout=Layout(flex='2'), max=313.0, style=Pr…"
      ]
     },
     "metadata": {},
     "output_type": "display_data"
    },
    {
     "name": "stderr",
     "output_type": "stream",
     "text": [
      "INFO:lightning:\n",
      "Epoch 00022: val_acc reached 0.91943 (best 0.91943), saving model to models/Resnetish11_1intro_layer_L1_64_3_s2_L2_128_3_s2_L3_256_3_s2_avg_pool_batch128/Resnetish11_1intro_layer_L1_64_3_s2_L2_128_3_s2_L3_256_3_s2_avg_pool_batch128_epoch=22-val_acc=0.9194-val_loss=0.2387.ckpt as top 1\n"
     ]
    },
    {
     "data": {
      "application/vnd.jupyter.widget-view+json": {
       "model_id": "",
       "version_major": 2,
       "version_minor": 0
      },
      "text/plain": [
       "HBox(children=(FloatProgress(value=0.0, description='Validating', layout=Layout(flex='2'), max=313.0, style=Pr…"
      ]
     },
     "metadata": {},
     "output_type": "display_data"
    },
    {
     "name": "stderr",
     "output_type": "stream",
     "text": [
      "INFO:lightning:\n",
      "Epoch 00023: val_acc reached 0.92003 (best 0.92003), saving model to models/Resnetish11_1intro_layer_L1_64_3_s2_L2_128_3_s2_L3_256_3_s2_avg_pool_batch128/Resnetish11_1intro_layer_L1_64_3_s2_L2_128_3_s2_L3_256_3_s2_avg_pool_batch128_epoch=23-val_acc=0.9200-val_loss=0.2603.ckpt as top 1\n"
     ]
    },
    {
     "data": {
      "application/vnd.jupyter.widget-view+json": {
       "model_id": "",
       "version_major": 2,
       "version_minor": 0
      },
      "text/plain": [
       "HBox(children=(FloatProgress(value=0.0, description='Validating', layout=Layout(flex='2'), max=313.0, style=Pr…"
      ]
     },
     "metadata": {},
     "output_type": "display_data"
    },
    {
     "name": "stderr",
     "output_type": "stream",
     "text": [
      "INFO:lightning:\n",
      "Epoch 00024: val_acc reached 0.92861 (best 0.92861), saving model to models/Resnetish11_1intro_layer_L1_64_3_s2_L2_128_3_s2_L3_256_3_s2_avg_pool_batch128/Resnetish11_1intro_layer_L1_64_3_s2_L2_128_3_s2_L3_256_3_s2_avg_pool_batch128_epoch=24-val_acc=0.9286-val_loss=0.2104.ckpt as top 1\n"
     ]
    },
    {
     "data": {
      "application/vnd.jupyter.widget-view+json": {
       "model_id": "",
       "version_major": 2,
       "version_minor": 0
      },
      "text/plain": [
       "HBox(children=(FloatProgress(value=0.0, description='Validating', layout=Layout(flex='2'), max=313.0, style=Pr…"
      ]
     },
     "metadata": {},
     "output_type": "display_data"
    },
    {
     "name": "stderr",
     "output_type": "stream",
     "text": [
      "INFO:lightning:\n",
      "Epoch 00025: val_acc  was not in top 1\n"
     ]
    },
    {
     "data": {
      "application/vnd.jupyter.widget-view+json": {
       "model_id": "",
       "version_major": 2,
       "version_minor": 0
      },
      "text/plain": [
       "HBox(children=(FloatProgress(value=0.0, description='Validating', layout=Layout(flex='2'), max=313.0, style=Pr…"
      ]
     },
     "metadata": {},
     "output_type": "display_data"
    },
    {
     "name": "stderr",
     "output_type": "stream",
     "text": [
      "INFO:lightning:\n",
      "Epoch 00026: val_acc reached 0.93051 (best 0.93051), saving model to models/Resnetish11_1intro_layer_L1_64_3_s2_L2_128_3_s2_L3_256_3_s2_avg_pool_batch128/Resnetish11_1intro_layer_L1_64_3_s2_L2_128_3_s2_L3_256_3_s2_avg_pool_batch128_epoch=26-val_acc=0.9305-val_loss=0.2092.ckpt as top 1\n"
     ]
    },
    {
     "data": {
      "application/vnd.jupyter.widget-view+json": {
       "model_id": "",
       "version_major": 2,
       "version_minor": 0
      },
      "text/plain": [
       "HBox(children=(FloatProgress(value=0.0, description='Validating', layout=Layout(flex='2'), max=313.0, style=Pr…"
      ]
     },
     "metadata": {},
     "output_type": "display_data"
    },
    {
     "name": "stderr",
     "output_type": "stream",
     "text": [
      "INFO:lightning:\n",
      "Epoch 00027: val_acc reached 0.93361 (best 0.93361), saving model to models/Resnetish11_1intro_layer_L1_64_3_s2_L2_128_3_s2_L3_256_3_s2_avg_pool_batch128/Resnetish11_1intro_layer_L1_64_3_s2_L2_128_3_s2_L3_256_3_s2_avg_pool_batch128_epoch=27-val_acc=0.9336-val_loss=0.1984.ckpt as top 1\n"
     ]
    },
    {
     "data": {
      "application/vnd.jupyter.widget-view+json": {
       "model_id": "",
       "version_major": 2,
       "version_minor": 0
      },
      "text/plain": [
       "HBox(children=(FloatProgress(value=0.0, description='Validating', layout=Layout(flex='2'), max=313.0, style=Pr…"
      ]
     },
     "metadata": {},
     "output_type": "display_data"
    },
    {
     "name": "stderr",
     "output_type": "stream",
     "text": [
      "INFO:lightning:\n",
      "Epoch 00028: val_acc reached 0.93550 (best 0.93550), saving model to models/Resnetish11_1intro_layer_L1_64_3_s2_L2_128_3_s2_L3_256_3_s2_avg_pool_batch128/Resnetish11_1intro_layer_L1_64_3_s2_L2_128_3_s2_L3_256_3_s2_avg_pool_batch128_epoch=28-val_acc=0.9355-val_loss=0.1957.ckpt as top 1\n"
     ]
    },
    {
     "data": {
      "application/vnd.jupyter.widget-view+json": {
       "model_id": "",
       "version_major": 2,
       "version_minor": 0
      },
      "text/plain": [
       "HBox(children=(FloatProgress(value=0.0, description='Validating', layout=Layout(flex='2'), max=313.0, style=Pr…"
      ]
     },
     "metadata": {},
     "output_type": "display_data"
    },
    {
     "name": "stderr",
     "output_type": "stream",
     "text": [
      "INFO:lightning:\n",
      "Epoch 00029: val_acc  was not in top 1\n"
     ]
    },
    {
     "data": {
      "application/vnd.jupyter.widget-view+json": {
       "model_id": "",
       "version_major": 2,
       "version_minor": 0
      },
      "text/plain": [
       "HBox(children=(FloatProgress(value=0.0, description='Validating', layout=Layout(flex='2'), max=313.0, style=Pr…"
      ]
     },
     "metadata": {},
     "output_type": "display_data"
    },
    {
     "name": "stderr",
     "output_type": "stream",
     "text": [
      "INFO:lightning:\n",
      "Epoch 00030: val_acc reached 0.93720 (best 0.93720), saving model to models/Resnetish11_1intro_layer_L1_64_3_s2_L2_128_3_s2_L3_256_3_s2_avg_pool_batch128/Resnetish11_1intro_layer_L1_64_3_s2_L2_128_3_s2_L3_256_3_s2_avg_pool_batch128_epoch=30-val_acc=0.9372-val_loss=0.1934.ckpt as top 1\n"
     ]
    },
    {
     "data": {
      "application/vnd.jupyter.widget-view+json": {
       "model_id": "",
       "version_major": 2,
       "version_minor": 0
      },
      "text/plain": [
       "HBox(children=(FloatProgress(value=0.0, description='Validating', layout=Layout(flex='2'), max=313.0, style=Pr…"
      ]
     },
     "metadata": {},
     "output_type": "display_data"
    },
    {
     "name": "stderr",
     "output_type": "stream",
     "text": [
      "INFO:lightning:\n",
      "Epoch 00031: val_acc reached 0.93890 (best 0.93890), saving model to models/Resnetish11_1intro_layer_L1_64_3_s2_L2_128_3_s2_L3_256_3_s2_avg_pool_batch128/Resnetish11_1intro_layer_L1_64_3_s2_L2_128_3_s2_L3_256_3_s2_avg_pool_batch128_epoch=31-val_acc=0.9389-val_loss=0.1957.ckpt as top 1\n"
     ]
    },
    {
     "data": {
      "application/vnd.jupyter.widget-view+json": {
       "model_id": "",
       "version_major": 2,
       "version_minor": 0
      },
      "text/plain": [
       "HBox(children=(FloatProgress(value=0.0, description='Validating', layout=Layout(flex='2'), max=313.0, style=Pr…"
      ]
     },
     "metadata": {},
     "output_type": "display_data"
    },
    {
     "name": "stderr",
     "output_type": "stream",
     "text": [
      "INFO:lightning:\n",
      "Epoch 00032: val_acc  was not in top 1\n"
     ]
    },
    {
     "data": {
      "application/vnd.jupyter.widget-view+json": {
       "model_id": "",
       "version_major": 2,
       "version_minor": 0
      },
      "text/plain": [
       "HBox(children=(FloatProgress(value=0.0, description='Validating', layout=Layout(flex='2'), max=313.0, style=Pr…"
      ]
     },
     "metadata": {},
     "output_type": "display_data"
    },
    {
     "name": "stderr",
     "output_type": "stream",
     "text": [
      "INFO:lightning:\n",
      "Epoch 00033: val_acc reached 0.94209 (best 0.94209), saving model to models/Resnetish11_1intro_layer_L1_64_3_s2_L2_128_3_s2_L3_256_3_s2_avg_pool_batch128/Resnetish11_1intro_layer_L1_64_3_s2_L2_128_3_s2_L3_256_3_s2_avg_pool_batch128_epoch=33-val_acc=0.9421-val_loss=0.1952.ckpt as top 1\n"
     ]
    },
    {
     "data": {
      "application/vnd.jupyter.widget-view+json": {
       "model_id": "",
       "version_major": 2,
       "version_minor": 0
      },
      "text/plain": [
       "HBox(children=(FloatProgress(value=0.0, description='Validating', layout=Layout(flex='2'), max=313.0, style=Pr…"
      ]
     },
     "metadata": {},
     "output_type": "display_data"
    },
    {
     "name": "stderr",
     "output_type": "stream",
     "text": [
      "INFO:lightning:\n",
      "Epoch 00034: val_acc reached 0.94329 (best 0.94329), saving model to models/Resnetish11_1intro_layer_L1_64_3_s2_L2_128_3_s2_L3_256_3_s2_avg_pool_batch128/Resnetish11_1intro_layer_L1_64_3_s2_L2_128_3_s2_L3_256_3_s2_avg_pool_batch128_epoch=34-val_acc=0.9433-val_loss=0.1943.ckpt as top 1\n"
     ]
    },
    {
     "data": {
      "application/vnd.jupyter.widget-view+json": {
       "model_id": "",
       "version_major": 2,
       "version_minor": 0
      },
      "text/plain": [
       "HBox(children=(FloatProgress(value=0.0, description='Validating', layout=Layout(flex='2'), max=313.0, style=Pr…"
      ]
     },
     "metadata": {},
     "output_type": "display_data"
    },
    {
     "name": "stderr",
     "output_type": "stream",
     "text": [
      "INFO:lightning:\n",
      "Epoch 00035: val_acc reached 0.94429 (best 0.94429), saving model to models/Resnetish11_1intro_layer_L1_64_3_s2_L2_128_3_s2_L3_256_3_s2_avg_pool_batch128/Resnetish11_1intro_layer_L1_64_3_s2_L2_128_3_s2_L3_256_3_s2_avg_pool_batch128_epoch=35-val_acc=0.9443-val_loss=0.1902.ckpt as top 1\n"
     ]
    },
    {
     "data": {
      "application/vnd.jupyter.widget-view+json": {
       "model_id": "",
       "version_major": 2,
       "version_minor": 0
      },
      "text/plain": [
       "HBox(children=(FloatProgress(value=0.0, description='Validating', layout=Layout(flex='2'), max=313.0, style=Pr…"
      ]
     },
     "metadata": {},
     "output_type": "display_data"
    },
    {
     "name": "stderr",
     "output_type": "stream",
     "text": [
      "INFO:lightning:\n",
      "Epoch 00036: val_acc reached 0.94519 (best 0.94519), saving model to models/Resnetish11_1intro_layer_L1_64_3_s2_L2_128_3_s2_L3_256_3_s2_avg_pool_batch128/Resnetish11_1intro_layer_L1_64_3_s2_L2_128_3_s2_L3_256_3_s2_avg_pool_batch128_epoch=36-val_acc=0.9452-val_loss=0.1909.ckpt as top 1\n"
     ]
    },
    {
     "data": {
      "application/vnd.jupyter.widget-view+json": {
       "model_id": "",
       "version_major": 2,
       "version_minor": 0
      },
      "text/plain": [
       "HBox(children=(FloatProgress(value=0.0, description='Validating', layout=Layout(flex='2'), max=313.0, style=Pr…"
      ]
     },
     "metadata": {},
     "output_type": "display_data"
    },
    {
     "name": "stderr",
     "output_type": "stream",
     "text": [
      "INFO:lightning:\n",
      "Epoch 00037: val_acc  was not in top 1\n"
     ]
    },
    {
     "data": {
      "application/vnd.jupyter.widget-view+json": {
       "model_id": "",
       "version_major": 2,
       "version_minor": 0
      },
      "text/plain": [
       "HBox(children=(FloatProgress(value=0.0, description='Validating', layout=Layout(flex='2'), max=313.0, style=Pr…"
      ]
     },
     "metadata": {},
     "output_type": "display_data"
    },
    {
     "name": "stderr",
     "output_type": "stream",
     "text": [
      "INFO:lightning:\n",
      "Epoch 00038: val_acc  was not in top 1\n"
     ]
    },
    {
     "data": {
      "application/vnd.jupyter.widget-view+json": {
       "model_id": "",
       "version_major": 2,
       "version_minor": 0
      },
      "text/plain": [
       "HBox(children=(FloatProgress(value=0.0, description='Validating', layout=Layout(flex='2'), max=313.0, style=Pr…"
      ]
     },
     "metadata": {},
     "output_type": "display_data"
    },
    {
     "name": "stderr",
     "output_type": "stream",
     "text": [
      "INFO:lightning:\n",
      "Epoch 00039: val_acc  was not in top 1\n"
     ]
    },
    {
     "name": "stdout",
     "output_type": "stream",
     "text": [
      "\n"
     ]
    },
    {
     "name": "stderr",
     "output_type": "stream",
     "text": [
      "/home/sergey/p/lrn/lrnenv/lib/python3.6/site-packages/pytorch_lightning/utilities/warnings.py:18: UserWarning: The dataloader, test dataloader 0, does not have many workers which may be a bottleneck. Consider increasing the value of the `num_workers` argument` in the `DataLoader` init to improve performance.\n",
      "  warnings.warn(*args, **kwargs)\n"
     ]
    },
    {
     "data": {
      "application/vnd.jupyter.widget-view+json": {
       "model_id": "e24c24e745ea4fa8a3e1a5bb8571a9bc",
       "version_major": 2,
       "version_minor": 0
      },
      "text/plain": [
       "HBox(children=(FloatProgress(value=0.0, description='Testing', layout=Layout(flex='2'), max=313.0, style=Progr…"
      ]
     },
     "metadata": {},
     "output_type": "display_data"
    },
    {
     "name": "stdout",
     "output_type": "stream",
     "text": [
      "--------------------------------------------------------------------------------\n",
      "TEST RESULTS\n",
      "{'test_acc': 0.9446884989738464, 'test_loss': 0.19215473532676697}\n",
      "--------------------------------------------------------------------------------\n",
      "\n"
     ]
    }
   ],
   "source": [
    "if __name__ == '__main__':\n",
    "    parent_parser = ArgumentParser(add_help=False)\n",
    "\n",
    "    # gpu args\n",
    "    parent_parser.add_argument(\n",
    "        '--gpus',\n",
    "        type=int,\n",
    "        default=1,\n",
    "        help='how many gpus'\n",
    "    )\n",
    "\n",
    "    parser = Model.add_model_specific_args(parent_parser)\n",
    "    hyperparams = parser.parse_args([\n",
    "        \"--learning_rate\", \"0.001\",\n",
    "        \"--epochs\", \"40\",\n",
    "        \"--batch_size_train\", \"128\",\n",
    "    ])\n",
    "    main(hyperparams)"
   ]
  },
  {
   "cell_type": "code",
   "execution_count": null,
   "metadata": {},
   "outputs": [],
   "source": []
  }
 ],
 "metadata": {
  "kernelspec": {
   "display_name": "Python 3",
   "language": "python",
   "name": "python3"
  },
  "language_info": {
   "codemirror_mode": {
    "name": "ipython",
    "version": 3
   },
   "file_extension": ".py",
   "mimetype": "text/x-python",
   "name": "python",
   "nbconvert_exporter": "python",
   "pygments_lexer": "ipython3",
   "version": "3.6.9"
  }
 },
 "nbformat": 4,
 "nbformat_minor": 4
}
