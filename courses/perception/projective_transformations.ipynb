{
 "cells": [
  {
   "cell_type": "markdown",
   "metadata": {},
   "source": [
    "# Projective transformation\n",
    "\n",
    "**Projective transformation** is any invertimle matrix transformation for homogeneou s coordinates $\\mathbb{P}^2 \\rightarrow \\mathbb{P}^2 $\n",
    "\n",
    "Let $A$ be a projective transformation.\n",
    "\n",
    "It maps $p$ to $p'$: $p' \\sim Ap$. \n",
    "\n",
    "Note: we use \"$ \\sim $\" insread of \"$=$\" because $p'$ in homogeneous coordinates is defined up to a scaling factor.\n",
    "\n",
    "$\\lambda p' = Ap$\n",
    "\n",
    "Projective transformation maps collinear points to collinear points.\n"
   ]
  },
  {
   "cell_type": "markdown",
   "metadata": {},
   "source": [
    "## Computing collinear transformation\n",
    "\n",
    "One has to have at least \n",
    "4 non collinear points to compute a projective transformation.\n",
    "\n",
    "Let's say $M$ maps $a$, $b$, $c$, $d$ to $a'$, $b'$, $c'$, $d'$ respectively:\n",
    "\n",
    "$a' \\sim Ma$, ...  $d' \\sim Md$.\n",
    "\n",
    "\n",
    "In order to compute $M$ first we have to decompose d as a linear combination of a, b, c. It is possible because $a,b,c, d \\in \\mathbb{R}^3$ and they are not collinear.\n",
    "\n",
    "$d =  \\alpha a + \\beta b + \\gamma c$\n",
    "\n",
    "Writing that as a matrix form gives us a linear system that has a single solution:\n",
    "\n",
    "$\n",
    "\\begin{pmatrix}\n",
    "a_{3 \\times 1} & b_{3 \\times 1} & c_{3 \\times 1}\n",
    "\\end{pmatrix}_{3 \\times 3}\n",
    "    \\cdot\n",
    "\\begin{pmatrix}\n",
    "\\alpha \\\\ \\beta \\\\ \\gamma\n",
    "\\end{pmatrix}\n",
    "= d\n",
    "$\n",
    "\n",
    "\n",
    "$\n",
    "\\begin{pmatrix}\n",
    "\\alpha \\\\ \\beta \\\\ \\gamma\n",
    "\\end{pmatrix}\n",
    "=\n",
    "\\begin{pmatrix}\n",
    "a & b & c\n",
    "\\end{pmatrix}^{-1}\n",
    "\\cdot d\n",
    "$\n",
    "\n",
    "\n",
    "Note that matrix $K_{abc}=\\begin{pmatrix}a & b & c\\end{pmatrix}_{3 \\times 3}$ maps basis vectors to it's columns:\n",
    "$\\begin{pmatrix}1 \\\\ 0 \\\\ 0\\end{pmatrix}$ to $a$,\n",
    "$\\begin{pmatrix}0 \\\\ 1 \\\\ 0\\end{pmatrix}$ to $b$,\n",
    "$\\begin{pmatrix}0 \\\\ 0 \\\\ 1\\end{pmatrix}$ to $c$.\n",
    "\n",
    "\n",
    "if we multiply columns of the matrix \n",
    "$K_{abc}=\\begin{pmatrix}a & b & c\\end{pmatrix}$ \n",
    "by \n",
    "$\\alpha, \\beta,  \\gamma$ \n",
    "we get a matrix \n",
    "\n",
    "$A = \\begin{pmatrix}\\alpha a & \\beta b & \\gamma c\\end{pmatrix}$\n",
    "\n",
    "that maps the same basis vectors to the scaled versions of $a,b,c$.\n",
    "\n",
    "\n",
    "Doing the same operation with $a', b', c', d'$ we get another matrix\n",
    "\n",
    "\n",
    "$B = \\begin{pmatrix}\\alpha' a' & \\beta' b' & \\gamma' c'\\end{pmatrix}$\n",
    "\n",
    "that maps the basis vectors to $\\alpha' a'$, $\\beta' b'$ and $\\gamma' c'$.\n",
    "\n",
    "In order to compute a final transformation between $a,b,c,d$ and $a', b', c', d'$ we first go from basis of $a,b,c$ to basis of $(1,0,0)^T, (0,1,0)^T, (0,0,1)^T$ using A^{-1}. Then we go from the basis of $(1,0,0)^T, (0,1,0)^T, (0,0,1)^T$ to the target basis of $a',b',c'$ using $B$.\n",
    "\n",
    "Final transformation $M = B \\cdot A^{-1}$"
   ]
  },
  {
   "cell_type": "markdown",
   "metadata": {},
   "source": [
    "## Examples\n"
   ]
  },
  {
   "cell_type": "markdown",
   "metadata": {},
   "source": [
    "### Example 3 from coursera quiz \n",
    "M keeps the points (0,0,1) and (1,1,1)fixed and maps point (1,0,1) to (1,0,0) and point (0,1,1) to (0,1,0)"
   ]
  },
  {
   "cell_type": "code",
   "execution_count": 1,
   "metadata": {},
   "outputs": [],
   "source": [
    "import numpy as np"
   ]
  },
  {
   "cell_type": "markdown",
   "metadata": {},
   "source": [
    "computing transformation from standard basis to scaled source vectors..."
   ]
  },
  {
   "cell_type": "code",
   "execution_count": 2,
   "metadata": {},
   "outputs": [
    {
     "data": {
      "text/plain": [
       "array([ 1.,  1., -1.])"
      ]
     },
     "execution_count": 2,
     "metadata": {},
     "output_type": "execute_result"
    }
   ],
   "source": [
    "\n",
    "a = [0,0,1]\n",
    "b = [1,1,1]\n",
    "c = [1,0,1]\n",
    "d = [0,1,1]\n",
    "\n",
    "# coeffs = [alpha beta gamma]\n",
    "coeffs = np.linalg.inv(np.array([a,b,c]).T) @ d\n",
    "coeffs"
   ]
  },
  {
   "cell_type": "code",
   "execution_count": 3,
   "metadata": {},
   "outputs": [
    {
     "data": {
      "text/plain": [
       "array([[ 0.,  1., -1.],\n",
       "       [ 0.,  1., -0.],\n",
       "       [ 1.,  1., -1.]])"
      ]
     },
     "execution_count": 3,
     "metadata": {},
     "output_type": "execute_result"
    }
   ],
   "source": [
    "# scaled matrix\n",
    "A = np.array([a,b,c]).T * coeffs\n",
    "A"
   ]
  },
  {
   "cell_type": "markdown",
   "metadata": {},
   "source": [
    "computing transformation from standard basis to scaled target vectors..."
   ]
  },
  {
   "cell_type": "code",
   "execution_count": 4,
   "metadata": {},
   "outputs": [
    {
     "data": {
      "text/plain": [
       "array([-1.,  1., -1.])"
      ]
     },
     "execution_count": 4,
     "metadata": {},
     "output_type": "execute_result"
    }
   ],
   "source": [
    "a_ = [0,0,1]\n",
    "b_ = [1,1,1]\n",
    "c_ = [1,0,0]\n",
    "d_ = [0,1,0] \n",
    "\n",
    "# coeffs_ = [alpha_ beta_ gamma_]\n",
    "coeffs_ = np.linalg.inv(np.array([a_,b_,c_]).T) @ d_\n",
    "coeffs_"
   ]
  },
  {
   "cell_type": "code",
   "execution_count": 5,
   "metadata": {},
   "outputs": [
    {
     "data": {
      "text/plain": [
       "array([[-0.,  1., -1.],\n",
       "       [-0.,  1., -0.],\n",
       "       [-1.,  1., -0.]])"
      ]
     },
     "execution_count": 5,
     "metadata": {},
     "output_type": "execute_result"
    }
   ],
   "source": [
    "# scaled matrix\n",
    "B = np.array([a_,b_,c_]).T * coeffs_\n",
    "B"
   ]
  },
  {
   "cell_type": "markdown",
   "metadata": {},
   "source": [
    "computing the final transformation: "
   ]
  },
  {
   "cell_type": "code",
   "execution_count": 6,
   "metadata": {},
   "outputs": [
    {
     "data": {
      "text/plain": [
       "array([[ 1.,  0.,  0.],\n",
       "       [ 0.,  1.,  0.],\n",
       "       [ 1.,  1., -1.]])"
      ]
     },
     "execution_count": 6,
     "metadata": {},
     "output_type": "execute_result"
    }
   ],
   "source": [
    "M = B @ np.linalg.inv(A)\n",
    "M"
   ]
  },
  {
   "cell_type": "markdown",
   "metadata": {},
   "source": [
    "scaled versions of M are also correct:"
   ]
  },
  {
   "cell_type": "code",
   "execution_count": 7,
   "metadata": {},
   "outputs": [
    {
     "data": {
      "text/plain": [
       "array([[-1., -0., -0.],\n",
       "       [-0., -1., -0.],\n",
       "       [-1., -1.,  1.]])"
      ]
     },
     "execution_count": 7,
     "metadata": {},
     "output_type": "execute_result"
    }
   ],
   "source": [
    "M * (-1)"
   ]
  }
 ],
 "metadata": {
  "kernelspec": {
   "display_name": "Python 3",
   "language": "python",
   "name": "python3"
  },
  "language_info": {
   "codemirror_mode": {
    "name": "ipython",
    "version": 3
   },
   "file_extension": ".py",
   "mimetype": "text/x-python",
   "name": "python",
   "nbconvert_exporter": "python",
   "pygments_lexer": "ipython3",
   "version": "3.6.9"
  }
 },
 "nbformat": 4,
 "nbformat_minor": 4
}
