{
 "cells": [
  {
   "cell_type": "code",
   "execution_count": 1,
   "metadata": {},
   "outputs": [],
   "source": [
    "import numpy as np\n",
    "\n",
    "def skew(x):\n",
    "    return np.array([[0, -x[2], x[1]],\n",
    "                     [x[2], 0, -x[0]],\n",
    "                     [-x[1], x[0], 0]])\n",
    "x = [1,2,3]\n",
    "y = np.array([1,2,3])"
   ]
  },
  {
   "cell_type": "code",
   "execution_count": 2,
   "metadata": {},
   "outputs": [],
   "source": [
    "from pytransform3d import rotations as pr\n",
    "\n",
    "\n",
    "random_state = np.random.RandomState(0)\n",
    "\n",
    "rot1 = pr.random_quaternion(random_state)\n"
   ]
  },
  {
   "cell_type": "code",
   "execution_count": 3,
   "metadata": {},
   "outputs": [],
   "source": [
    "R = pr.matrix_from_quaternion(rot1)"
   ]
  },
  {
   "cell_type": "code",
   "execution_count": 4,
   "metadata": {},
   "outputs": [
    {
     "data": {
      "text/plain": [
       "array([[ True,  True,  True],\n",
       "       [ True,  True,  True],\n",
       "       [ True,  True,  True]])"
      ]
     },
     "execution_count": 4,
     "metadata": {},
     "output_type": "execute_result"
    }
   ],
   "source": [
    "skew(x).T == -skew(x)"
   ]
  },
  {
   "cell_type": "code",
   "execution_count": 17,
   "metadata": {},
   "outputs": [
    {
     "data": {
      "text/plain": [
       "array([0, 0, 0])"
      ]
     },
     "execution_count": 17,
     "metadata": {},
     "output_type": "execute_result"
    }
   ],
   "source": [
    "skew(x) @ x "
   ]
  },
  {
   "cell_type": "code",
   "execution_count": 19,
   "metadata": {},
   "outputs": [
    {
     "data": {
      "text/plain": [
       "array([0, 0, 0])"
      ]
     },
     "execution_count": 19,
     "metadata": {},
     "output_type": "execute_result"
    }
   ],
   "source": [
    "np.array(x).T @ skew(x)"
   ]
  },
  {
   "cell_type": "code",
   "execution_count": 22,
   "metadata": {},
   "outputs": [
    {
     "data": {
      "text/plain": [
       "array([[ 1.34405231e-17, -1.77635684e-15,  7.77156117e-16],\n",
       "       [ 1.33226763e-15,  7.61433025e-17, -4.44089210e-16],\n",
       "       [-8.88178420e-16,  2.22044605e-16,  5.69068517e-18]])"
      ]
     },
     "execution_count": 22,
     "metadata": {},
     "output_type": "execute_result"
    }
   ],
   "source": [
    "R.T @ skew(x) @ R - skew(R.T@x)"
   ]
  },
  {
   "cell_type": "code",
   "execution_count": 8,
   "metadata": {},
   "outputs": [
    {
     "data": {
      "text/plain": [
       "(array([[ 1.34405231e-17, -3.48506344e+00,  8.69934041e-01],\n",
       "        [ 3.48506344e+00,  7.61433025e-17, -1.04763904e+00],\n",
       "        [-8.69934041e-01,  1.04763904e+00,  5.69068517e-18]]),\n",
       " array([[ 0.        , -3.48506344,  0.86993404],\n",
       "        [ 3.48506344,  0.        , -1.04763904],\n",
       "        [-0.86993404,  1.04763904,  0.        ]]))"
      ]
     },
     "execution_count": 8,
     "metadata": {},
     "output_type": "execute_result"
    }
   ],
   "source": [
    "# 2\n",
    "\n",
    "R.T @ skew(y) @ R,  skew(R.T @ y)"
   ]
  },
  {
   "cell_type": "code",
   "execution_count": 15,
   "metadata": {},
   "outputs": [
    {
     "data": {
      "text/plain": [
       "-1.0476390357156573"
      ]
     },
     "execution_count": 15,
     "metadata": {},
     "output_type": "execute_result"
    }
   ],
   "source": [
    "R[:, 1] @ skew(y) @ R[:, 2]"
   ]
  },
  {
   "cell_type": "code",
   "execution_count": 14,
   "metadata": {},
   "outputs": [
    {
     "data": {
      "text/plain": [
       "array([[ 0, -3,  2],\n",
       "       [ 3,  0, -1],\n",
       "       [-2,  1,  0]])"
      ]
     },
     "execution_count": 14,
     "metadata": {},
     "output_type": "execute_result"
    }
   ],
   "source": [
    "skew(y)"
   ]
  },
  {
   "cell_type": "code",
   "execution_count": 29,
   "metadata": {},
   "outputs": [],
   "source": [
    "# 3"
   ]
  },
  {
   "cell_type": "code",
   "execution_count": 32,
   "metadata": {},
   "outputs": [
    {
     "data": {
      "text/plain": [
       "(array([-2.76576319,  0.57583861, -1.96044992]),\n",
       " array([-2.49865452,  2.62616695, -5.67488967]))"
      ]
     },
     "execution_count": 32,
     "metadata": {},
     "output_type": "execute_result"
    }
   ],
   "source": [
    "rot1 = pr.random_quaternion(random_state)\n",
    "rot2 = pr.random_quaternion(random_state)\n",
    "R1 = pr.matrix_from_quaternion(rot1)\n",
    "R2 = pr.matrix_from_quaternion(rot2)\n",
    "T1 = np.array([1,2,3])\n",
    "T2 = np.array([3,4,5])\n",
    "XW = np.array([0.2,0.3,0.12])\n",
    "X1 = R1.T @ (XW-T1)\n",
    "X2 = R2.T @ (XW-T2)\n",
    "X1, X2"
   ]
  },
  {
   "cell_type": "code",
   "execution_count": 37,
   "metadata": {},
   "outputs": [
    {
     "data": {
      "text/plain": [
       "(5.329070518200751e-15, -20.851118111428242)"
      ]
     },
     "execution_count": 37,
     "metadata": {},
     "output_type": "execute_result"
    }
   ],
   "source": [
    "E = R1.T @ skew(T2-T1) @ R2\n",
    "X1 @ E @ X2, X2 @ E @ X1, "
   ]
  },
  {
   "cell_type": "code",
   "execution_count": 38,
   "metadata": {},
   "outputs": [
    {
     "data": {
      "text/plain": [
       "(-5.329070518200751e-15, 20.851118111428242)"
      ]
     },
     "execution_count": 38,
     "metadata": {},
     "output_type": "execute_result"
    }
   ],
   "source": [
    "E = R1.T @ skew(T1-T2) @ R2\n",
    "X1 @ E @ X2, X2 @ E @ X1, "
   ]
  },
  {
   "cell_type": "code",
   "execution_count": 40,
   "metadata": {},
   "outputs": [
    {
     "data": {
      "text/plain": [
       "(5.329070518200751e-15, -20.851118111428235)"
      ]
     },
     "execution_count": 40,
     "metadata": {},
     "output_type": "execute_result"
    }
   ],
   "source": [
    "E = skew(R1.T @ (T2-T1)) @ (R1.T @ R2)\n",
    "X1 @ E @ X2, X2 @ E @ X1, "
   ]
  },
  {
   "cell_type": "code",
   "execution_count": 41,
   "metadata": {},
   "outputs": [
    {
     "data": {
      "text/plain": [
       "(-5.329070518200751e-15, 20.851118111428235)"
      ]
     },
     "execution_count": 41,
     "metadata": {},
     "output_type": "execute_result"
    }
   ],
   "source": [
    "E = skew(R1.T @ (T1-T2)) @ (R1.T @ R2)\n",
    "X1 @ E @ X2, X2 @ E @ X1, "
   ]
  },
  {
   "cell_type": "code",
   "execution_count": 23,
   "metadata": {},
   "outputs": [],
   "source": [
    "# 9"
   ]
  },
  {
   "cell_type": "code",
   "execution_count": 16,
   "metadata": {},
   "outputs": [
    {
     "name": "stdout",
     "output_type": "stream",
     "text": [
      "[[ 0.          1.          0.        ]\n",
      " [ 0.70710678  0.         -0.70710678]\n",
      " [ 0.          1.          0.        ]]\n",
      "(array([[-0.70710678,  0.        , -0.70710678],\n",
      "       [ 0.        , -1.        ,  0.        ],\n",
      "       [-0.70710678,  0.        ,  0.70710678]]), array([1.41421356, 1.        , 0.        ]), array([[ 0.        , -1.        ,  0.        ],\n",
      "       [-0.70710678,  0.        ,  0.70710678],\n",
      "       [-0.70710678,  0.        , -0.70710678]]))\n"
     ]
    }
   ],
   "source": [
    "E = np.array([0, 1, 0, 2**-0.5, 0, -2**-0.5, 0, 1, 0]).reshape(3,3)\n",
    "print(E)\n",
    "print(np.linalg.svd(E))"
   ]
  },
  {
   "cell_type": "code",
   "execution_count": 17,
   "metadata": {},
   "outputs": [
    {
     "name": "stdout",
     "output_type": "stream",
     "text": [
      "[[ 0.          0.          0.        ]\n",
      " [ 0.70710678  0.         -0.70710678]\n",
      " [ 0.          1.          0.        ]]\n",
      "(array([[ 0.,  0., -1.],\n",
      "       [-1.,  0.,  0.],\n",
      "       [ 0.,  1.,  0.]]), array([1., 1., 0.]), array([[-0.70710678,  0.        ,  0.70710678],\n",
      "       [-0.        ,  1.        ,  0.        ],\n",
      "       [-0.70710678,  0.        , -0.70710678]]))\n"
     ]
    }
   ],
   "source": [
    "E = np.array([0, 0, 0, 2**-0.5, 0, -2**-0.5, 0, 1, 0]).reshape(3,3)\n",
    "print(E)\n",
    "print(np.linalg.svd(E))"
   ]
  },
  {
   "cell_type": "code",
   "execution_count": 18,
   "metadata": {},
   "outputs": [
    {
     "name": "stdout",
     "output_type": "stream",
     "text": [
      "[[2 0 0]\n",
      " [0 1 0]\n",
      " [0 0 0]]\n",
      "(array([[1., 0., 0.],\n",
      "       [0., 1., 0.],\n",
      "       [0., 0., 1.]]), array([2., 1., 0.]), array([[1., 0., 0.],\n",
      "       [0., 1., 0.],\n",
      "       [0., 0., 1.]]))\n"
     ]
    }
   ],
   "source": [
    "E = np.diag([2,1,0])\n",
    "print(E)\n",
    "print(np.linalg.svd(E))"
   ]
  },
  {
   "cell_type": "code",
   "execution_count": 19,
   "metadata": {},
   "outputs": [
    {
     "name": "stdout",
     "output_type": "stream",
     "text": [
      "[[1 0 0]\n",
      " [0 1 0]\n",
      " [0 0 0]]\n",
      "(array([[0., 1., 0.],\n",
      "       [1., 0., 0.],\n",
      "       [0., 0., 1.]]), array([1., 1., 0.]), array([[0., 1., 0.],\n",
      "       [1., 0., 0.],\n",
      "       [0., 0., 1.]]))\n"
     ]
    }
   ],
   "source": [
    "E = np.diag([1,1,0])\n",
    "print(E)\n",
    "print(np.linalg.svd(E))"
   ]
  },
  {
   "cell_type": "code",
   "execution_count": null,
   "metadata": {},
   "outputs": [],
   "source": []
  }
 ],
 "metadata": {
  "kernelspec": {
   "display_name": "Python 3",
   "language": "python",
   "name": "python3"
  },
  "language_info": {
   "codemirror_mode": {
    "name": "ipython",
    "version": 3
   },
   "file_extension": ".py",
   "mimetype": "text/x-python",
   "name": "python",
   "nbconvert_exporter": "python",
   "pygments_lexer": "ipython3",
   "version": "3.6.9"
  }
 },
 "nbformat": 4,
 "nbformat_minor": 4
}
